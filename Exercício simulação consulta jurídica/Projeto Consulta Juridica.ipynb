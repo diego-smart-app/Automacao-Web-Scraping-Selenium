{
 "cells": [
  {
   "cell_type": "code",
   "execution_count": 1,
   "id": "6f8cb6a2",
   "metadata": {},
   "outputs": [
    {
     "data": {
      "text/html": [
       "<div>\n",
       "<style scoped>\n",
       "    .dataframe tbody tr th:only-of-type {\n",
       "        vertical-align: middle;\n",
       "    }\n",
       "\n",
       "    .dataframe tbody tr th {\n",
       "        vertical-align: top;\n",
       "    }\n",
       "\n",
       "    .dataframe thead th {\n",
       "        text-align: right;\n",
       "    }\n",
       "</style>\n",
       "<table border=\"1\" class=\"dataframe\">\n",
       "  <thead>\n",
       "    <tr style=\"text-align: right;\">\n",
       "      <th></th>\n",
       "      <th>Nome</th>\n",
       "      <th>Advogado</th>\n",
       "      <th>Processo</th>\n",
       "      <th>Cidade</th>\n",
       "      <th>Status</th>\n",
       "    </tr>\n",
       "  </thead>\n",
       "  <tbody>\n",
       "    <tr>\n",
       "      <th>0</th>\n",
       "      <td>Lira</td>\n",
       "      <td>Alon Lawyer</td>\n",
       "      <td>PC6592</td>\n",
       "      <td>Distrito Federal</td>\n",
       "      <td>NaN</td>\n",
       "    </tr>\n",
       "    <tr>\n",
       "      <th>1</th>\n",
       "      <td>João</td>\n",
       "      <td>Lawyer Alon</td>\n",
       "      <td>EB3792</td>\n",
       "      <td>Rio de Janeiro</td>\n",
       "      <td>NaN</td>\n",
       "    </tr>\n",
       "    <tr>\n",
       "      <th>2</th>\n",
       "      <td>Amanda</td>\n",
       "      <td>Amanda mesmo</td>\n",
       "      <td>MM1043</td>\n",
       "      <td>Rio de Janeiro</td>\n",
       "      <td>NaN</td>\n",
       "    </tr>\n",
       "    <tr>\n",
       "      <th>3</th>\n",
       "      <td>Carol</td>\n",
       "      <td>Amanda</td>\n",
       "      <td>PC5197</td>\n",
       "      <td>São Paulo</td>\n",
       "      <td>NaN</td>\n",
       "    </tr>\n",
       "  </tbody>\n",
       "</table>\n",
       "</div>"
      ],
      "text/plain": [
       "     Nome      Advogado Processo            Cidade  Status\n",
       "0    Lira   Alon Lawyer   PC6592  Distrito Federal     NaN\n",
       "1    João   Lawyer Alon   EB3792    Rio de Janeiro     NaN\n",
       "2  Amanda  Amanda mesmo   MM1043    Rio de Janeiro     NaN\n",
       "3   Carol        Amanda   PC5197         São Paulo     NaN"
      ]
     },
     "metadata": {},
     "output_type": "display_data"
    }
   ],
   "source": [
    "# Abrindo dataframe\n",
    "\n",
    "import pandas as pd\n",
    "\n",
    "nomes_df = pd.read_excel(r'Processos.xlsx')\n",
    "\n",
    "display(nomes_df)\n"
   ]
  },
  {
   "cell_type": "code",
   "execution_count": 2,
   "id": "825a79b1",
   "metadata": {},
   "outputs": [],
   "source": [
    "# Abre site\n",
    "from selenium import webdriver\n",
    "from selenium.webdriver.chrome.service import Service\n",
    "from webdriver_manager.chrome import ChromeDriverManager\n",
    "from selenium.webdriver.common.by import By\n",
    "import os\n",
    "\n",
    "caminho = os.getcwd()\n",
    "\n",
    "arquivo = caminho + r'\\index.html'\n",
    "\n",
    "servico = Service(ChromeDriverManager().install())\n",
    "\n",
    "navegador = webdriver.Chrome(service=servico)\n",
    "\n",
    "navegador.get(arquivo)\n"
   ]
  },
  {
   "cell_type": "code",
   "execution_count": 6,
   "id": "67e709d6",
   "metadata": {},
   "outputs": [
    {
     "name": "stdout",
     "output_type": "stream",
     "text": [
      "Nome                    Lira\n",
      "Advogado         Alon Lawyer\n",
      "Processo              PC6592\n",
      "Cidade      Distrito Federal\n",
      "Status                   NaN\n",
      "Name: 0, dtype: object\n",
      "4\n"
     ]
    }
   ],
   "source": [
    "# Teste de manipulação dos dados do dataframe\n",
    "print(nomes_df.iloc[0])\n",
    "print(len(nomes_df))\n"
   ]
  },
  {
   "cell_type": "code",
   "execution_count": 16,
   "id": "83acf763",
   "metadata": {},
   "outputs": [],
   "source": [
    "# Passar mouse encima do menu de estados na página - USAR ACTIONCHAINS\n",
    "\n",
    "from selenium.webdriver import ActionChains\n",
    "\n",
    "# Definindo menu\n",
    "menu = navegador.find_element(By.XPATH, '/html/body/div/div/button')\n",
    "\n",
    "# Definindo lista de itens\n",
    "itens = navegador.find_element(By.CLASS_NAME, 'dropdown-content').find_elements(By.TAG_NAME, 'a')\n",
    "\n",
    "# Colocar mouse encima do botão\n",
    "ActionChains(navegador).move_to_element(menu).perform()\n",
    "\n",
    "# Verificando qual é o item a ser clicado\n",
    "for item in itens:\n",
    "    if item.text == 'São Paulo':\n",
    "        item.click()\n"
   ]
  },
  {
   "cell_type": "code",
   "execution_count": 24,
   "id": "32eae532",
   "metadata": {},
   "outputs": [],
   "source": [
    "# Define lista de abas no navegador\n",
    "abas = navegador.window_handles\n",
    "\n",
    "# Muda para segunda aba\n",
    "navegador.switch_to.window(abas[1])\n"
   ]
  },
  {
   "cell_type": "code",
   "execution_count": 41,
   "id": "a9a70e31",
   "metadata": {},
   "outputs": [
    {
     "name": "stdout",
     "output_type": "stream",
     "text": [
      "Processo encontrado com sucesso! Deseja acessar?\n"
     ]
    }
   ],
   "source": [
    "# Reinicia página pra limpar dados F5\n",
    "navegador.refresh()\n",
    "\n",
    "# Preenchendo dados\n",
    "navegador.find_element(By.ID, 'nome').send_keys('Diego')\n",
    "navegador.find_element(By.ID, 'advogado').send_keys('Marco')\n",
    "navegador.find_element(By.ID, 'numero').send_keys('3589')\n",
    "\n",
    "# Clica em pesquisar\n",
    "navegador.find_element(By.CLASS_NAME, 'registerbtn').click()\n",
    "\n",
    "# Tratando primeiro alerta\n",
    "alerta = navegador.switch_to.alert\n",
    "\n",
    "# Aceitando o alerta\n",
    "alerta.accept()\n",
    "\n",
    "# Tratando segundo alerta (espera ele acontecer)\n",
    "while True:\n",
    "    try:\n",
    "        alerta = navegador.switch_to.alert\n",
    "        print(alerta.text)\n",
    "        alerta.accept()\n",
    "        break\n",
    "    except:\n",
    "        continue\n"
   ]
  },
  {
   "cell_type": "code",
   "execution_count": null,
   "id": "7b362de8",
   "metadata": {},
   "outputs": [],
   "source": []
  }
 ],
 "metadata": {
  "kernelspec": {
   "display_name": "Python 3 (ipykernel)",
   "language": "python",
   "name": "python3"
  },
  "language_info": {
   "codemirror_mode": {
    "name": "ipython",
    "version": 3
   },
   "file_extension": ".py",
   "mimetype": "text/x-python",
   "name": "python",
   "nbconvert_exporter": "python",
   "pygments_lexer": "ipython3",
   "version": "3.11.3"
  }
 },
 "nbformat": 4,
 "nbformat_minor": 5
}
