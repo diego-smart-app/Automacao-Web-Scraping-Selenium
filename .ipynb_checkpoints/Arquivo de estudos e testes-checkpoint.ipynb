{
 "cells": [
  {
   "cell_type": "markdown",
   "id": "eefb54b5",
   "metadata": {},
   "source": [
    "# Instalação\n",
    "\n",
    "## Passos necessários\n",
    "* Baixar / atualizar o Selenium com ```pip install --upgrade selenium``` no prompt do anaconda (mantenha-o atualizado)\n",
    "* Usar o chrome, pois tem total compatibilidade com o selenium\n",
    "* Verifcar a versão do seu Google Chrome\n",
    "* baixar o google driver [https://chromedriver.chromium.org/downloads](https://chromedriver.chromium.org/downloads)\n",
    "* Ao baixar, extraia o arquivo e cole onde está instalado o python. No meu caso é: __C:\\Users\\Diego\\anaconda3__\n",
    "\n",
    "## Agora basta executar o comando pra abrir o navegador"
   ]
  },
  {
   "cell_type": "code",
   "execution_count": 36,
   "id": "c7502d28",
   "metadata": {},
   "outputs": [],
   "source": [
    "from selenium import webdriver\n",
    "\n",
    "driver = webdriver.Chrome()\n"
   ]
  },
  {
   "cell_type": "markdown",
   "id": "bb2f08ab",
   "metadata": {},
   "source": [
    "## Chromedriver em outro local\n",
    "\n",
    "Você pode deixar o __chromewebdriver__ em outro local do computador, para isso precisamos de outra biblioteca e usar o método ```Service```.\\\n",
    "Veja como fica:\n",
    "```\n",
    "from selenium import webdriver\n",
    "from selenium.webdriver.chrome.service import Service\n",
    "\n",
    "servico = Service(r'caminho\\webdriver.exe')\n",
    "\n",
    "driver = webdriver.Chrome(service=servico)\n",
    "```\n",
    "__Observação:__ No linux ou MAC não coloque __.exe__\n",
    "\n",
    "\n",
    "## Gerenciador de webdriver\n",
    "\n",
    "O código a seguir permite instalar o webdriver correspondente ao seu navegador, ele faz isso toda vez que o código é iniciado. Mas pra isso você deve instalar o __webdriver-manager__:\n",
    "```\n",
    "pip install webdriver-manager\n",
    "```\n",
    "## Depois é só rodar o código"
   ]
  },
  {
   "cell_type": "code",
   "execution_count": 37,
   "id": "a23126d8",
   "metadata": {},
   "outputs": [],
   "source": [
    "from selenium import webdriver\n",
    "from selenium.webdriver.chrome.service import Service\n",
    "from webdriver_manager.chrome import ChromeDriverManager\n",
    "\n",
    "servico = Service(ChromeDriverManager().install())\n",
    "driver = webdriver.Chrome(service=servico)\n"
   ]
  },
  {
   "cell_type": "markdown",
   "id": "ed2feb81",
   "metadata": {},
   "source": [
    "# Abrindo uma página específica\n",
    "\n",
    "Para abrir um site basta usar o comando __.get(link)__.\\\n",
    "\n",
    "No caso do exemplo acima usamos:\n",
    "```\n",
    "link = 'https:/www.site.com/'\n",
    "driver.get(link)\n",
    "```\n",
    "Se quiser mais de uma página, crie vários navegadores e pra cada um use o __.get()__\n",
    "\n",
    "## Também é possível abrir um arquivo em html\n",
    "Pra isso basta usar o caminho do arquivo\n",
    "```\n",
    "link = r'C:\\Users\\Fulano\\Documents\\Arquivo.html'\n",
    "driver.get(link)\n",
    "```"
   ]
  },
  {
   "cell_type": "code",
   "execution_count": 48,
   "id": "94d8f572",
   "metadata": {},
   "outputs": [],
   "source": [
    "from selenium import webdriver\n",
    "from selenium.webdriver.chrome.service import Service\n",
    "from webdriver_manager.chrome import ChromeDriverManager\n",
    "\n",
    "servico = Service(ChromeDriverManager().install())\n",
    "navegador = webdriver.Chrome(service=servico)\n"
   ]
  },
  {
   "cell_type": "code",
   "execution_count": 49,
   "id": "fddd2ff1",
   "metadata": {},
   "outputs": [],
   "source": [
    "navegador.get(r'C:\\Users\\Diego\\Downloads\\Pagina Hashtag.html')\n"
   ]
  },
  {
   "cell_type": "markdown",
   "id": "ddfd5cd4",
   "metadata": {},
   "source": [
    "# Selecionando objetos com o Selenium\n",
    "\n",
    "A seleção de elementos é uma das partes __mais importante e difícil__ no uso de automação com selenium.\\\n",
    "Segue alguns métodos de seleção:\n",
    "* id\n",
    "* xpath\n",
    "* class_name\n",
    "* text\n",
    "* tipo de informação\n",
    "* link_text\n",
    "* partial_link_text\n",
    "* name\n",
    "* tag_name\n",
    "* css_selector\n",
    "\n",
    "O mais recomendado é pelo __id__\n",
    "\n",
    "Mas deve ser importado o método ```By```\n",
    "\n",
    "```from selenium.webdriver.common.by import By```\n",
    "\n",
    "### Métodos de seleção de elementos\n",
    "```navegador.find_element``` __-> traz uma lista com 1 item__\n",
    "<br>\n",
    "```navegador.find_elements``` __-> traz uma lisa com vários elementos__\n",
    "\n",
    "## Abaixo está a manipulaçao do site da Hashtag"
   ]
  },
  {
   "cell_type": "code",
   "execution_count": 10,
   "id": "da0aeb9f",
   "metadata": {},
   "outputs": [],
   "source": [
    "import os\n",
    "from selenium.webdriver.common.by import By\n",
    "\n",
    "caminho = os.getcwd()\n",
    "\n",
    "arquivo = caminho + r'\\Pagina Hashtag.html'\n",
    "\n",
    "# Página local da Hashtag\n",
    "navegador.get(arquivo)\n",
    "\n",
    "# Clicando em contato\n",
    "navegador.find_element(By.XPATH, '//*[@id=\"menu-item-221\"]/a').click()\n",
    "\n",
    "# Definindo elemento de entrada de nome e escrevendo algo\n",
    "navegador.find_element(By.ID, 'firstname').send_keys(\"Diego Ribeiro\")\n",
    "\n",
    "# Definindo elemento de entrada de nome e escrevendo algo\n",
    "navegador.find_element(By.ID, 'email').send_keys(\"meuemail@serv.com.br\")\n",
    "\n",
    "# Clicando num botão\n",
    "navegador.find_element(By.CLASS_NAME, 'botao-formulario-newsletter').click()\n"
   ]
  },
  {
   "cell_type": "code",
   "execution_count": 11,
   "id": "8367cd0a",
   "metadata": {},
   "outputs": [],
   "source": [
    "# Trabalhando na página da Univesp\n",
    "navegador.get('https://univesp.br/')\n",
    "\n",
    "# Insere texto na barra de pesquisa\n",
    "navegador.find_element(By.ID, 's').send_keys(\"Cursos de engenharia\")\n"
   ]
  },
  {
   "cell_type": "markdown",
   "id": "178287da",
   "metadata": {},
   "source": [
    "# Seleção pelo CLASS NAME e pelo XPATH\n",
    "\n",
    "Sempre que o elemento que deseja selecionar para clicar por exemplo não tiver um __id__, pode tentar usar o __class_name__, para isso funcionar nem sempre será o selecionado, mas deve ir tentando até encontrar,\\\n",
    "Na caso de procurar elementos para colocar no código, deve ser procurado com __Crtl+Shit+i__, esse comando entra na parte de inspação do __html__.\\\n",
    "__MASSSS__ pode não funcionar com __class_name__, então deve usar o __XPATH__.\n",
    "\n",
    "## Usando o XPATH\n",
    "\n",
    "Passos a seguir para obter o __XPATH:__\n",
    "* Abrir a página em questão\n",
    "* Abrir o inspecionar\n",
    "* Habilitar seleção com a \"setinha\"\n",
    "* Clicar no elemento desejado\n",
    "* Na linha marcada no html clicar botão direito\n",
    "* Clica em __Copy - Copy Xpath__\n",
    "\n",
    "\n",
    "## Lógica de encontrar nome de elementos\n",
    "\n",
    "Procurar pelos passos\n",
    "* ID\n",
    "* CLASS_NAME\n",
    "* XPATH\n"
   ]
  },
  {
   "cell_type": "code",
   "execution_count": 12,
   "id": "6d4a6325",
   "metadata": {},
   "outputs": [],
   "source": [
    "# Clica na barra de pesquisa\n",
    "navegador.find_element(By.CLASS_NAME, 'btn').click()\n"
   ]
  },
  {
   "cell_type": "code",
   "execution_count": 13,
   "id": "a952e9bc",
   "metadata": {},
   "outputs": [],
   "source": [
    "# Usando outro site\n",
    "navegador.get('https://www.tecmundo.com.br/cultura-geek/217401-10-melhores-coringas-historia.htm')\n",
    "\n",
    "# Clicando em Tutoriais\n",
    "navegador.find_element(By.XPATH, '//*[@id=\"js-header\"]/nav/div/ul/li[4]/a').click()\n",
    "\n",
    "# Clicando em 'Como Usar o Apple Pay com mais Segurança?'\n",
    "navegador.find_element(By.CLASS_NAME, 'tec--tag-main__item__thumb__image').click()\n"
   ]
  },
  {
   "cell_type": "markdown",
   "id": "55cc0b58",
   "metadata": {},
   "source": [
    "# Métodos alternativos para selecionar elementos numa página Web\n",
    "\n",
    "São os métodos os seguintes:\n",
    "* Selecionar usando TAG\n",
    "* Selecionar usando NAME\n",
    "* Selecionar usando LINK_TEXT ou PARTIAL_LINK_TEXT\n",
    "\n",
    "## Vamos ver na prática"
   ]
  },
  {
   "cell_type": "code",
   "execution_count": 43,
   "id": "587350a1",
   "metadata": {},
   "outputs": [
    {
     "name": "stdout",
     "output_type": "stream",
     "text": [
      "TODOS OS CURSOS DA HASHTAG TREINAMENTOS\n"
     ]
    }
   ],
   "source": [
    "# SELECIONANDO TÍTULO DA PÁGINA USANDO A TAG\n",
    "\n",
    "titulo = navegador.find_element(By.TAG_NAME, 'h2').text\n",
    "\n",
    "print(titulo)\n"
   ]
  },
  {
   "cell_type": "code",
   "execution_count": 55,
   "id": "6c48f2c3",
   "metadata": {},
   "outputs": [
    {
     "name": "stdout",
     "output_type": "stream",
     "text": [
      "(21) 99658-2442 (WhatsApp)\n"
     ]
    }
   ],
   "source": [
    "# RASPAGEM DE DADOS USANDO PARTIAL_LINK_TEXT\n",
    "\n",
    "# Clicando em contato\n",
    "navegador.find_element(By.XPATH, '//*[@id=\"menu-item-221\"]/a').click()\n",
    "\n",
    "# Pegando número do zap\n",
    "numero_zap = navegador.find_element(By.PARTIAL_LINK_TEXT, 'WhatsApp').text\n",
    "\n",
    "print(numero_zap)\n"
   ]
  },
  {
   "cell_type": "code",
   "execution_count": 57,
   "id": "c2eace5c",
   "metadata": {},
   "outputs": [],
   "source": [
    "# PREENCHENDO O FORMULÁRIO USANDO A ENTRADA DE TEXTO PELO NAME\n",
    "navegador.find_element(By.NAME, 'firstname').send_keys('Teste de nome')\n"
   ]
  },
  {
   "cell_type": "markdown",
   "id": "9e7ce111",
   "metadata": {},
   "source": [
    "# Selecionando diversos elementos\n",
    "\n",
    "Para fazer isso devemos usar o ```find_elements```, a vantagem de selecionar vários elementos é extrair coisas que se relacionam. Um exemplo é pesquisar no yotube vídeos relacionados a um determinado assunto, extrair links deles pra determinar onde a propaganda vai ser executada.\\\n",
    "Um problema que ocorre de usar ```find_element``` usando __CLASS_NAME__ por exemplo é que uma página pode ter diversos elementos com a mesma classe, nesse caso o programa vai clicar ou selecionar o primeiro da lista."
   ]
  },
  {
   "cell_type": "code",
   "execution_count": 62,
   "id": "a6c4658f",
   "metadata": {},
   "outputs": [
    {
     "name": "stdout",
     "output_type": "stream",
     "text": [
      "[]\n"
     ]
    }
   ],
   "source": [
    "# Importações\n",
    "from selenium import webdriver\n",
    "from selenium.webdriver.chrome.service import Service\n",
    "from webdriver_manager.chrome import ChromeDriverManager\n",
    "\n",
    "# Definindo navegador\n",
    "servico = Service(ChromeDriverManager().install())\n",
    "navegador = webdriver.Chrome(service=servico)\n"
   ]
  },
  {
   "cell_type": "markdown",
   "id": "90a65360",
   "metadata": {},
   "source": [
    "# Clicando num elemento pelo nome sem conhecer sua TAG"
   ]
  },
  {
   "cell_type": "code",
   "execution_count": 71,
   "id": "9ad7bed0",
   "metadata": {},
   "outputs": [
    {
     "name": "stdout",
     "output_type": "stream",
     "text": [
      "14\n",
      "Pronto\n"
     ]
    }
   ],
   "source": [
    "# Acessando site da Hashtag\n",
    "navegador.get(r'C:\\Users\\Diego\\Downloads\\Pagina Hashtag.html')\n",
    "\n",
    "# OBTENDO LISTA DE ELEMENTOS \n",
    "lista_elementos = navegador.find_elements(By.CLASS_NAME, 'nav-link')\n",
    "\n",
    "print(len(lista_elementos))\n",
    "\n",
    "for elemento in lista_elementos:\n",
    "    texto = elemento.text.lower()\n",
    "    if texto == 'blog':\n",
    "        elemento.click()\n",
    "        break\n",
    "print('Pronto')\n"
   ]
  },
  {
   "cell_type": "markdown",
   "id": "5c19d9fa",
   "metadata": {},
   "source": [
    "# Usando o Selenium para pegar atributos de um elemento\n",
    "\n",
    "Um elemento tem __texto__ e __elementos__, dizendo de forma simplificada o texto de um elemento é o que se encontra entre a abertura da __tag__ e seu fechamento. Já o atributo é o que têm na prórpria tag html.\\\n",
    "Os métodos aprendidos foram:\n",
    "```\n",
    ".text\n",
    ".send_keys('Blablabla')\n",
    ".click()\n",
    "```\n",
    "Agora temos o de pegar atributos que é:\n",
    "```\n",
    ".get_attribute(href)\n",
    "```\n",
    "__Detalhe:__ entre parenteses poderia colocar qualquer atributo desejado, podia ser classe, id, etc."
   ]
  },
  {
   "cell_type": "code",
   "execution_count": 14,
   "id": "b2c02c84",
   "metadata": {},
   "outputs": [],
   "source": [
    "# Exemplo\n",
    "\n",
    "# Importação de módulos e métodos\n",
    "from selenium import webdriver\n",
    "from selenium.webdriver.chrome.service import Service\n",
    "from webdriver_manager.chrome import ChromeDriverManager\n",
    "from selenium.webdriver.common.by import By\n",
    "\n",
    "# Verifica versão e instala se necessário o WebDriver\n",
    "servico = Service(ChromeDriverManager().install())\n",
    "navegador = webdriver.Chrome(service=servico)\n"
   ]
  },
  {
   "cell_type": "code",
   "execution_count": 15,
   "id": "be61109e",
   "metadata": {},
   "outputs": [],
   "source": [
    "import os\n",
    "\n",
    "# Definindo caminho do arquivo\n",
    "caminho = os.getcwd()\n",
    "\n",
    "# Definição do local do arquivo\n",
    "arquivo = caminho + r'\\Pagina Hashtag.html'\n",
    "\n",
    "# Obtendo página web\n",
    "navegador.get(arquivo)\n"
   ]
  },
  {
   "cell_type": "code",
   "execution_count": 16,
   "id": "598d4a44",
   "metadata": {},
   "outputs": [],
   "source": [
    "# EXEMPLO LINK ZAP\n",
    "\n",
    "# Clicando em contato\n",
    "navegador.find_element(By.XPATH, '//*[@id=\"menu-item-221\"]/a').click()\n"
   ]
  },
  {
   "cell_type": "code",
   "execution_count": 18,
   "id": "e80def08",
   "metadata": {},
   "outputs": [
    {
     "name": "stdout",
     "output_type": "stream",
     "text": [
      "https://api.whatsapp.com/send?phone=5521996582442&text=Ol%C3%A1%2C%20gostaria%20de%20tirar%20uma%20d%C3%BAvida%20%20sobre%20o%20curso%20online\n"
     ]
    }
   ],
   "source": [
    "# Pegando atributo do elemento\n",
    "link_zap = navegador.find_element(By.XPATH, '/html/body/footer/div/div/div[1]/div[2]/div[5]/div/a').get_attribute('href')\n",
    "\n",
    "print(link_zap)\n"
   ]
  },
  {
   "cell_type": "code",
   "execution_count": 20,
   "id": "85fffaff",
   "metadata": {},
   "outputs": [
    {
     "name": "stdout",
     "output_type": "stream",
     "text": [
      "https://www.hashtagtreinamentos.com/wp-content/uploads/2022/05/Logo-Hashtag-Original-1.png\n"
     ]
    }
   ],
   "source": [
    "# EXEMPLO IMAGENS\n",
    "\n",
    "# Obtendo link da imegem\n",
    "link_imagem = navegador.find_element(By.XPATH, '/html/body/footer/div/div/div[1]/div[1]/img').get_attribute('src')\n",
    "\n",
    "print(link_imagem)\n"
   ]
  },
  {
   "cell_type": "code",
   "execution_count": 3,
   "id": "8229caf9",
   "metadata": {},
   "outputs": [],
   "source": [
    "# Acessando um site e extraindo todos os links dele\n",
    "\n",
    "# Importando módulos e métodos\n",
    "from selenium import webdriver\n",
    "from selenium.webdriver.chrome.service import Service\n",
    "from webdriver_manager.chrome import ChromeDriverManager\n",
    "from selenium.webdriver.common.by import By\n",
    "\n",
    "# Inicia gerenciador do webdriver\n",
    "servico = Service(ChromeDriverManager().install())\n",
    "navegador = webdriver.Chrome(service=servico)\n"
   ]
  },
  {
   "cell_type": "code",
   "execution_count": 55,
   "id": "72489a0b",
   "metadata": {},
   "outputs": [],
   "source": [
    "# Acessa site do Butantan\n",
    "\n",
    "url = 'https://butantan.gov.br/'\n",
    "\n",
    "navegador.get(url)\n"
   ]
  },
  {
   "cell_type": "code",
   "execution_count": 56,
   "id": "2345126a",
   "metadata": {},
   "outputs": [
    {
     "name": "stderr",
     "output_type": "stream",
     "text": [
      "0it [01:18, ?it/s]                                                                            | 0/1739 [00:00<?, ?it/s]\n",
      "100%|█████████████████████████████████████████████████████████████████████████████▉| 1738/1739 [02:58<00:00, 10.04it/s]"
     ]
    },
    {
     "name": "stdout",
     "output_type": "stream",
     "text": [
      "['https://en.butantan.gov.br/', 'https://en.butantan.gov.br/', 'https://en.butantan.gov.br/', 'https://en.butantan.gov.br/', 'https://en.butantan.gov.br/', 'https://en.butantan.gov.br/', 'https://en.butantan.gov.br/', 'https://en.butantan.gov.br/', 'https://en.butantan.gov.br/', 'https://en.butantan.gov.br/', 'https://en.butantan.gov.br/', 'https://en.butantan.gov.br/', 'https://en.butantan.gov.br/', 'https://en.butantan.gov.br/', 'https://en.butantan.gov.br/', 'https://en.butantan.gov.br/', 'https://en.butantan.gov.br/', 'https://en.butantan.gov.br/', 'https://en.butantan.gov.br/', 'https://en.butantan.gov.br/', 'https://en.butantan.gov.br/', 'https://en.butantan.gov.br/', 'https://en.butantan.gov.br/', 'https://en.butantan.gov.br/', 'https://en.butantan.gov.br/', 'https://en.butantan.gov.br/', 'https://en.butantan.gov.br/', 'https://en.butantan.gov.br/', 'https://en.butantan.gov.br/', 'https://en.butantan.gov.br/', 'https://en.butantan.gov.br/', 'https://en.butantan.gov.br/', 'https://en.butantan.gov.br/', 'https://en.butantan.gov.br/', 'https://en.butantan.gov.br/', 'https://en.butantan.gov.br/', 'https://en.butantan.gov.br/', 'https://en.butantan.gov.br/', 'https://en.butantan.gov.br/', 'https://en.butantan.gov.br/', 'https://en.butantan.gov.br/', 'https://en.butantan.gov.br/', 'https://en.butantan.gov.br/', 'https://en.butantan.gov.br/', 'https://en.butantan.gov.br/', 'https://en.butantan.gov.br/', 'https://en.butantan.gov.br/', 'https://en.butantan.gov.br/', 'https://en.butantan.gov.br/', 'https://parquedaciencia.butantan.gov.br/', 'https://centrodememoria.butantan.gov.br/', 'https://cdi.butantan.gov.br/', 'https://en.butantan.gov.br/', 'https://en.butantan.gov.br/', 'https://en.butantan.gov.br/', 'https://en.butantan.gov.br/', 'https://en.butantan.gov.br/', 'https://en.butantan.gov.br/', 'https://en.butantan.gov.br/', 'https://en.butantan.gov.br/', 'https://en.butantan.gov.br/', 'https://en.butantan.gov.br/', 'https://en.butantan.gov.br/', 'https://en.butantan.gov.br/', 'https://en.butantan.gov.br/', 'https://en.butantan.gov.br/', 'https://en.butantan.gov.br/', 'https://en.butantan.gov.br/', 'https://en.butantan.gov.br/', 'https://en.butantan.gov.br/', 'https://en.butantan.gov.br/', 'https://en.butantan.gov.br/', 'https://en.butantan.gov.br/', 'https://en.butantan.gov.br/', 'https://en.butantan.gov.br/', 'https://en.butantan.gov.br/', 'https://en.butantan.gov.br/', 'https://en.butantan.gov.br/', 'https://en.butantan.gov.br/', 'https://en.butantan.gov.br/', 'https://en.butantan.gov.br/', 'https://en.butantan.gov.br/', 'https://en.butantan.gov.br/', 'https://en.butantan.gov.br/', 'https://en.butantan.gov.br/', 'https://en.butantan.gov.br/', 'https://en.butantan.gov.br/', 'https://en.butantan.gov.br/', 'https://en.butantan.gov.br/', 'https://en.butantan.gov.br/', 'https://en.butantan.gov.br/', 'https://en.butantan.gov.br/', 'https://en.butantan.gov.br/', 'https://en.butantan.gov.br/', 'https://en.butantan.gov.br/', 'https://en.butantan.gov.br/', 'https://en.butantan.gov.br/', 'https://en.butantan.gov.br/', 'https://en.butantan.gov.br/', 'https://en.butantan.gov.br/', 'https://en.butantan.gov.br/', 'https://en.butantan.gov.br/', 'https://en.butantan.gov.br/', 'https://en.butantan.gov.br/', 'https://en.butantan.gov.br/', 'https://en.butantan.gov.br/', 'https://en.butantan.gov.br/', 'https://en.butantan.gov.br/', 'https://en.butantan.gov.br/', 'https://en.butantan.gov.br/', 'https://en.butantan.gov.br/', 'https://en.butantan.gov.br/', 'https://en.butantan.gov.br/', 'https://en.butantan.gov.br/', 'https://en.butantan.gov.br/', 'https://en.butantan.gov.br/', 'https://en.butantan.gov.br/', 'https://en.butantan.gov.br/', 'https://en.butantan.gov.br/', 'https://en.butantan.gov.br/', 'https://en.butantan.gov.br/', 'https://en.butantan.gov.br/', 'https://en.butantan.gov.br/', 'https://en.butantan.gov.br/', 'https://en.butantan.gov.br/', 'https://en.butantan.gov.br/', 'https://en.butantan.gov.br/', 'https://en.butantan.gov.br/', 'https://en.butantan.gov.br/', 'https://en.butantan.gov.br/', 'https://en.butantan.gov.br/', 'https://en.butantan.gov.br/', 'https://en.butantan.gov.br/', 'https://en.butantan.gov.br/', 'https://en.butantan.gov.br/', 'https://en.butantan.gov.br/', 'https://en.butantan.gov.br/', 'https://en.butantan.gov.br/', 'https://en.butantan.gov.br/', 'https://en.butantan.gov.br/', 'https://en.butantan.gov.br/', 'https://en.butantan.gov.br/', 'https://en.butantan.gov.br/', 'https://en.butantan.gov.br/', 'https://en.butantan.gov.br/', 'https://en.butantan.gov.br/', 'https://en.butantan.gov.br/', 'https://en.butantan.gov.br/', 'https://en.butantan.gov.br/', 'https://en.butantan.gov.br/', 'https://en.butantan.gov.br/', 'https://en.butantan.gov.br/', 'https://en.butantan.gov.br/', 'https://en.butantan.gov.br/', 'https://en.butantan.gov.br/', 'https://en.butantan.gov.br/', 'https://en.butantan.gov.br/', 'https://en.butantan.gov.br/', 'https://en.butantan.gov.br/', 'https://en.butantan.gov.br/', 'https://en.butantan.gov.br/', 'https://en.butantan.gov.br/', 'https://en.butantan.gov.br/', 'https://en.butantan.gov.br/', 'https://en.butantan.gov.br/', 'https://en.butantan.gov.br/', 'https://en.butantan.gov.br/', 'https://en.butantan.gov.br/', 'https://en.butantan.gov.br/', 'https://en.butantan.gov.br/', 'https://en.butantan.gov.br/', 'https://en.butantan.gov.br/', 'https://en.butantan.gov.br/', 'https://en.butantan.gov.br/', 'https://en.butantan.gov.br/', 'https://en.butantan.gov.br/', 'https://en.butantan.gov.br/', 'https://en.butantan.gov.br/', 'https://en.butantan.gov.br/', 'https://en.butantan.gov.br/', 'https://en.butantan.gov.br/', 'https://en.butantan.gov.br/', 'https://en.butantan.gov.br/', 'https://en.butantan.gov.br/', 'https://en.butantan.gov.br/', 'https://en.butantan.gov.br/', 'https://en.butantan.gov.br/', 'https://en.butantan.gov.br/', 'https://en.butantan.gov.br/', 'https://en.butantan.gov.br/', 'https://en.butantan.gov.br/', 'https://en.butantan.gov.br/', 'https://en.butantan.gov.br/', 'https://en.butantan.gov.br/', 'https://en.butantan.gov.br/', 'https://en.butantan.gov.br/', 'https://en.butantan.gov.br/', 'https://en.butantan.gov.br/', 'https://en.butantan.gov.br/', 'https://en.butantan.gov.br/', 'https://en.butantan.gov.br/', 'https://en.butantan.gov.br/', 'https://en.butantan.gov.br/', 'https://en.butantan.gov.br/', 'https://en.butantan.gov.br/', 'https://en.butantan.gov.br/', 'https://en.butantan.gov.br/', 'https://en.butantan.gov.br/', 'https://en.butantan.gov.br/', 'https://en.butantan.gov.br/', 'https://en.butantan.gov.br/', 'https://en.butantan.gov.br/', 'https://en.butantan.gov.br/', 'https://en.butantan.gov.br/', 'https://en.butantan.gov.br/', 'https://en.butantan.gov.br/', 'https://en.butantan.gov.br/', 'https://en.butantan.gov.br/', 'https://en.butantan.gov.br/', 'https://en.butantan.gov.br/', 'https://en.butantan.gov.br/', 'https://en.butantan.gov.br/', 'https://en.butantan.gov.br/', 'https://en.butantan.gov.br/', 'https://en.butantan.gov.br/', 'https://en.butantan.gov.br/', 'https://en.butantan.gov.br/', 'https://en.butantan.gov.br/', 'https://en.butantan.gov.br/', 'https://en.butantan.gov.br/', 'https://en.butantan.gov.br/', 'https://en.butantan.gov.br/', 'https://en.butantan.gov.br/', 'https://en.butantan.gov.br/', 'https://en.butantan.gov.br/', 'https://en.butantan.gov.br/', 'https://en.butantan.gov.br/', 'https://en.butantan.gov.br/', 'https://en.butantan.gov.br/', 'https://en.butantan.gov.br/', 'https://en.butantan.gov.br/', 'https://en.butantan.gov.br/', 'https://en.butantan.gov.br/', 'https://en.butantan.gov.br/', 'https://en.butantan.gov.br/', 'https://en.butantan.gov.br/', 'https://en.butantan.gov.br/', 'https://en.butantan.gov.br/', 'https://en.butantan.gov.br/', 'https://en.butantan.gov.br/', 'https://en.butantan.gov.br/', 'https://en.butantan.gov.br/', 'https://en.butantan.gov.br/', 'https://en.butantan.gov.br/', 'https://en.butantan.gov.br/', 'https://en.butantan.gov.br/', 'https://en.butantan.gov.br/', 'https://en.butantan.gov.br/', 'https://en.butantan.gov.br/', 'https://en.butantan.gov.br/', 'https://en.butantan.gov.br/', 'https://en.butantan.gov.br/', 'https://en.butantan.gov.br/', 'https://en.butantan.gov.br/', 'https://en.butantan.gov.br/', 'https://en.butantan.gov.br/', 'https://en.butantan.gov.br/', 'https://en.butantan.gov.br/', 'https://en.butantan.gov.br/', 'https://en.butantan.gov.br/', 'https://en.butantan.gov.br/', 'https://en.butantan.gov.br/', 'https://en.butantan.gov.br/', 'https://en.butantan.gov.br/', 'https://en.butantan.gov.br/', 'https://en.butantan.gov.br/', 'https://en.butantan.gov.br/', 'https://en.butantan.gov.br/', 'https://en.butantan.gov.br/', 'https://en.butantan.gov.br/', 'https://en.butantan.gov.br/', 'https://en.butantan.gov.br/', 'https://en.butantan.gov.br/', 'https://en.butantan.gov.br/', 'https://en.butantan.gov.br/', 'https://en.butantan.gov.br/', 'https://en.butantan.gov.br/', 'https://en.butantan.gov.br/', 'https://en.butantan.gov.br/', 'https://en.butantan.gov.br/', 'https://en.butantan.gov.br/', 'https://en.butantan.gov.br/', 'https://en.butantan.gov.br/', 'https://en.butantan.gov.br/', 'https://en.butantan.gov.br/', 'https://en.butantan.gov.br/', 'https://en.butantan.gov.br/', 'https://en.butantan.gov.br/', 'https://en.butantan.gov.br/', 'https://en.butantan.gov.br/', 'https://en.butantan.gov.br/', 'https://en.butantan.gov.br/', 'https://en.butantan.gov.br/', 'https://en.butantan.gov.br/', 'https://en.butantan.gov.br/', 'https://en.butantan.gov.br/', 'https://en.butantan.gov.br/', 'https://en.butantan.gov.br/', 'https://en.butantan.gov.br/', 'https://en.butantan.gov.br/', 'https://en.butantan.gov.br/', 'https://en.butantan.gov.br/', 'https://en.butantan.gov.br/', 'https://en.butantan.gov.br/', 'https://en.butantan.gov.br/', 'https://en.butantan.gov.br/', 'https://en.butantan.gov.br/', 'https://en.butantan.gov.br/', 'https://en.butantan.gov.br/', 'https://en.butantan.gov.br/', 'https://en.butantan.gov.br/', 'https://en.butantan.gov.br/', 'https://en.butantan.gov.br/', 'https://en.butantan.gov.br/', 'https://en.butantan.gov.br/', 'https://en.butantan.gov.br/', 'https://en.butantan.gov.br/', 'https://en.butantan.gov.br/', 'https://en.butantan.gov.br/', 'https://en.butantan.gov.br/', 'https://en.butantan.gov.br/', 'https://en.butantan.gov.br/', 'https://en.butantan.gov.br/', 'https://en.butantan.gov.br/', 'https://en.butantan.gov.br/', 'https://en.butantan.gov.br/', 'https://en.butantan.gov.br/', 'https://en.butantan.gov.br/', 'https://en.butantan.gov.br/', 'https://en.butantan.gov.br/', 'https://en.butantan.gov.br/', 'https://en.butantan.gov.br/', 'https://en.butantan.gov.br/', 'https://en.butantan.gov.br/', 'https://en.butantan.gov.br/', 'https://en.butantan.gov.br/', 'https://en.butantan.gov.br/', 'https://en.butantan.gov.br/', 'https://en.butantan.gov.br/', 'https://en.butantan.gov.br/', 'https://en.butantan.gov.br/', 'https://en.butantan.gov.br/', 'https://en.butantan.gov.br/', 'https://en.butantan.gov.br/', 'https://en.butantan.gov.br/', 'https://en.butantan.gov.br/', 'https://en.butantan.gov.br/', 'https://en.butantan.gov.br/', 'https://en.butantan.gov.br/', 'https://en.butantan.gov.br/', 'https://en.butantan.gov.br/', 'https://en.butantan.gov.br/', 'https://en.butantan.gov.br/', 'https://en.butantan.gov.br/', 'https://en.butantan.gov.br/', 'https://en.butantan.gov.br/', 'https://en.butantan.gov.br/', 'https://en.butantan.gov.br/', 'https://en.butantan.gov.br/', 'https://en.butantan.gov.br/', 'https://en.butantan.gov.br/', 'https://en.butantan.gov.br/', 'https://en.butantan.gov.br/', 'https://en.butantan.gov.br/', 'https://en.butantan.gov.br/', 'https://en.butantan.gov.br/', 'https://en.butantan.gov.br/', 'https://en.butantan.gov.br/', 'https://en.butantan.gov.br/', 'https://en.butantan.gov.br/', 'https://en.butantan.gov.br/', 'https://en.butantan.gov.br/', 'https://en.butantan.gov.br/', 'https://en.butantan.gov.br/', 'https://en.butantan.gov.br/', 'https://en.butantan.gov.br/', 'https://en.butantan.gov.br/', 'https://en.butantan.gov.br/', 'https://en.butantan.gov.br/', 'https://en.butantan.gov.br/', 'https://en.butantan.gov.br/', 'https://en.butantan.gov.br/', 'https://en.butantan.gov.br/', 'https://en.butantan.gov.br/', 'https://en.butantan.gov.br/', 'https://en.butantan.gov.br/', 'https://en.butantan.gov.br/', 'https://en.butantan.gov.br/', 'https://en.butantan.gov.br/', 'https://en.butantan.gov.br/', 'https://en.butantan.gov.br/', 'https://en.butantan.gov.br/', 'https://en.butantan.gov.br/', 'https://en.butantan.gov.br/', 'https://en.butantan.gov.br/', 'https://en.butantan.gov.br/', 'https://en.butantan.gov.br/', 'https://en.butantan.gov.br/', 'https://en.butantan.gov.br/', 'https://en.butantan.gov.br/', 'https://en.butantan.gov.br/', 'https://en.butantan.gov.br/', 'https://en.butantan.gov.br/', 'https://en.butantan.gov.br/', 'https://en.butantan.gov.br/', 'https://en.butantan.gov.br/', 'https://en.butantan.gov.br/', 'https://en.butantan.gov.br/', 'https://en.butantan.gov.br/', 'https://en.butantan.gov.br/', 'https://en.butantan.gov.br/', 'https://en.butantan.gov.br/', 'https://en.butantan.gov.br/', 'https://en.butantan.gov.br/', 'https://en.butantan.gov.br/', 'https://en.butantan.gov.br/', 'https://en.butantan.gov.br/', 'https://en.butantan.gov.br/', 'https://en.butantan.gov.br/', 'https://en.butantan.gov.br/', 'https://en.butantan.gov.br/', 'https://en.butantan.gov.br/', 'https://en.butantan.gov.br/', 'https://en.butantan.gov.br/', 'https://en.butantan.gov.br/', 'https://en.butantan.gov.br/', 'https://en.butantan.gov.br/', 'https://en.butantan.gov.br/', 'https://en.butantan.gov.br/', 'https://en.butantan.gov.br/', 'https://en.butantan.gov.br/', 'https://en.butantan.gov.br/', 'https://en.butantan.gov.br/', 'https://en.butantan.gov.br/', 'https://en.butantan.gov.br/', 'https://en.butantan.gov.br/', 'https://en.butantan.gov.br/', 'https://en.butantan.gov.br/', 'https://en.butantan.gov.br/', 'https://en.butantan.gov.br/', 'https://en.butantan.gov.br/', 'https://en.butantan.gov.br/', 'https://en.butantan.gov.br/', 'https://en.butantan.gov.br/', 'https://en.butantan.gov.br/', 'https://en.butantan.gov.br/', 'https://en.butantan.gov.br/', 'https://en.butantan.gov.br/', 'https://en.butantan.gov.br/', 'https://en.butantan.gov.br/', 'https://en.butantan.gov.br/', 'https://en.butantan.gov.br/', 'https://en.butantan.gov.br/', 'https://en.butantan.gov.br/', 'https://en.butantan.gov.br/', 'https://en.butantan.gov.br/', 'https://en.butantan.gov.br/', 'https://en.butantan.gov.br/', 'https://en.butantan.gov.br/', 'https://en.butantan.gov.br/', 'https://en.butantan.gov.br/', 'https://en.butantan.gov.br/', 'https://en.butantan.gov.br/', 'https://en.butantan.gov.br/', 'https://en.butantan.gov.br/', 'https://en.butantan.gov.br/', 'https://en.butantan.gov.br/', 'https://en.butantan.gov.br/', 'https://en.butantan.gov.br/', 'https://en.butantan.gov.br/', 'https://en.butantan.gov.br/', 'https://en.butantan.gov.br/', 'https://en.butantan.gov.br/', 'https://en.butantan.gov.br/', 'https://en.butantan.gov.br/', 'https://en.butantan.gov.br/', 'https://en.butantan.gov.br/', 'https://en.butantan.gov.br/', 'https://en.butantan.gov.br/', 'https://en.butantan.gov.br/', 'https://en.butantan.gov.br/', 'https://en.butantan.gov.br/', 'https://en.butantan.gov.br/', 'https://en.butantan.gov.br/', 'https://en.butantan.gov.br/', 'https://en.butantan.gov.br/', 'https://en.butantan.gov.br/', 'https://en.butantan.gov.br/', 'https://en.butantan.gov.br/', 'https://en.butantan.gov.br/', 'https://en.butantan.gov.br/', 'https://en.butantan.gov.br/', 'https://en.butantan.gov.br/', 'https://en.butantan.gov.br/', 'https://en.butantan.gov.br/', 'https://en.butantan.gov.br/', 'https://en.butantan.gov.br/', 'https://en.butantan.gov.br/', 'https://en.butantan.gov.br/', 'https://en.butantan.gov.br/', 'https://en.butantan.gov.br/', 'https://en.butantan.gov.br/', 'https://en.butantan.gov.br/', 'https://en.butantan.gov.br/', 'https://en.butantan.gov.br/', 'https://en.butantan.gov.br/', 'https://en.butantan.gov.br/', 'https://en.butantan.gov.br/', 'https://en.butantan.gov.br/', 'https://en.butantan.gov.br/', 'https://en.butantan.gov.br/', 'https://en.butantan.gov.br/', 'https://en.butantan.gov.br/', 'https://en.butantan.gov.br/', 'https://en.butantan.gov.br/', 'https://en.butantan.gov.br/', 'https://en.butantan.gov.br/', 'https://en.butantan.gov.br/', 'https://en.butantan.gov.br/', 'https://en.butantan.gov.br/', 'https://en.butantan.gov.br/', 'https://en.butantan.gov.br/', 'https://en.butantan.gov.br/', 'https://en.butantan.gov.br/', 'https://en.butantan.gov.br/', 'https://en.butantan.gov.br/', 'https://en.butantan.gov.br/', 'https://en.butantan.gov.br/', 'https://en.butantan.gov.br/', 'https://en.butantan.gov.br/', 'https://en.butantan.gov.br/', 'https://en.butantan.gov.br/', 'https://en.butantan.gov.br/', 'https://en.butantan.gov.br/', 'https://en.butantan.gov.br/', 'https://en.butantan.gov.br/', 'https://en.butantan.gov.br/', 'https://en.butantan.gov.br/', 'https://en.butantan.gov.br/', 'https://en.butantan.gov.br/', 'https://en.butantan.gov.br/', 'https://en.butantan.gov.br/', 'https://en.butantan.gov.br/', 'https://en.butantan.gov.br/', 'https://en.butantan.gov.br/', 'https://en.butantan.gov.br/', 'https://en.butantan.gov.br/', 'https://en.butantan.gov.br/', 'https://en.butantan.gov.br/', 'https://en.butantan.gov.br/', 'https://en.butantan.gov.br/', 'https://en.butantan.gov.br/', 'https://en.butantan.gov.br/', 'https://en.butantan.gov.br/', 'https://en.butantan.gov.br/', 'https://en.butantan.gov.br/', 'https://en.butantan.gov.br/', 'https://en.butantan.gov.br/', 'https://en.butantan.gov.br/', 'https://en.butantan.gov.br/', 'https://en.butantan.gov.br/', 'https://en.butantan.gov.br/', 'https://en.butantan.gov.br/', 'https://en.butantan.gov.br/', 'https://en.butantan.gov.br/', 'https://en.butantan.gov.br/', 'https://en.butantan.gov.br/', 'https://en.butantan.gov.br/', 'https://en.butantan.gov.br/', 'https://en.butantan.gov.br/', 'https://en.butantan.gov.br/', 'https://en.butantan.gov.br/', 'https://en.butantan.gov.br/', 'https://en.butantan.gov.br/', 'https://en.butantan.gov.br/', 'https://en.butantan.gov.br/', 'https://en.butantan.gov.br/', 'https://en.butantan.gov.br/', 'https://en.butantan.gov.br/', 'https://en.butantan.gov.br/', 'https://en.butantan.gov.br/', 'https://en.butantan.gov.br/', 'https://en.butantan.gov.br/', 'https://en.butantan.gov.br/', 'https://en.butantan.gov.br/', 'https://en.butantan.gov.br/', 'https://en.butantan.gov.br/', 'https://en.butantan.gov.br/', 'https://en.butantan.gov.br/', 'https://en.butantan.gov.br/', 'https://en.butantan.gov.br/', 'https://en.butantan.gov.br/', 'https://en.butantan.gov.br/', 'https://en.butantan.gov.br/', 'https://en.butantan.gov.br/', 'https://en.butantan.gov.br/', 'https://en.butantan.gov.br/', 'https://en.butantan.gov.br/', 'https://en.butantan.gov.br/', 'https://en.butantan.gov.br/', 'https://en.butantan.gov.br/', 'https://en.butantan.gov.br/', 'https://en.butantan.gov.br/', 'https://en.butantan.gov.br/', 'https://en.butantan.gov.br/', 'https://en.butantan.gov.br/', 'https://en.butantan.gov.br/', 'https://en.butantan.gov.br/', 'https://en.butantan.gov.br/', 'https://en.butantan.gov.br/', 'https://en.butantan.gov.br/', 'https://en.butantan.gov.br/', 'https://en.butantan.gov.br/', 'https://en.butantan.gov.br/', 'https://en.butantan.gov.br/', 'https://en.butantan.gov.br/', 'https://en.butantan.gov.br/', 'https://en.butantan.gov.br/', 'https://en.butantan.gov.br/', 'https://en.butantan.gov.br/', 'https://en.butantan.gov.br/', 'https://en.butantan.gov.br/', 'https://en.butantan.gov.br/', 'https://en.butantan.gov.br/', 'https://en.butantan.gov.br/', 'https://en.butantan.gov.br/', 'https://en.butantan.gov.br/', 'https://en.butantan.gov.br/', 'https://en.butantan.gov.br/', 'https://en.butantan.gov.br/', 'https://en.butantan.gov.br/', 'https://en.butantan.gov.br/', 'https://en.butantan.gov.br/', 'https://en.butantan.gov.br/', 'https://en.butantan.gov.br/', 'https://en.butantan.gov.br/', 'https://en.butantan.gov.br/', 'https://en.butantan.gov.br/', 'https://en.butantan.gov.br/', 'https://en.butantan.gov.br/', 'https://en.butantan.gov.br/', 'https://en.butantan.gov.br/', 'https://en.butantan.gov.br/', 'https://en.butantan.gov.br/', 'https://en.butantan.gov.br/', 'https://en.butantan.gov.br/', 'https://en.butantan.gov.br/', 'https://en.butantan.gov.br/', 'https://en.butantan.gov.br/', 'https://en.butantan.gov.br/', 'https://en.butantan.gov.br/', 'https://en.butantan.gov.br/', 'https://en.butantan.gov.br/', 'https://en.butantan.gov.br/', 'https://en.butantan.gov.br/', 'https://en.butantan.gov.br/', 'https://en.butantan.gov.br/', 'https://en.butantan.gov.br/', 'https://en.butantan.gov.br/', 'https://en.butantan.gov.br/', 'https://en.butantan.gov.br/', 'https://en.butantan.gov.br/', 'https://en.butantan.gov.br/', 'https://en.butantan.gov.br/', 'https://en.butantan.gov.br/', 'https://en.butantan.gov.br/', 'https://en.butantan.gov.br/', 'https://en.butantan.gov.br/', 'https://en.butantan.gov.br/', 'https://en.butantan.gov.br/', 'https://en.butantan.gov.br/', 'https://en.butantan.gov.br/', 'https://en.butantan.gov.br/', 'https://en.butantan.gov.br/', 'https://en.butantan.gov.br/', 'https://en.butantan.gov.br/', 'https://en.butantan.gov.br/', 'https://en.butantan.gov.br/', 'https://en.butantan.gov.br/', 'https://en.butantan.gov.br/', 'https://en.butantan.gov.br/', 'https://en.butantan.gov.br/', 'https://en.butantan.gov.br/', 'https://en.butantan.gov.br/', 'https://en.butantan.gov.br/', 'https://en.butantan.gov.br/', 'https://en.butantan.gov.br/', 'https://en.butantan.gov.br/', 'https://en.butantan.gov.br/', 'https://en.butantan.gov.br/', 'https://en.butantan.gov.br/', 'https://en.butantan.gov.br/', 'https://en.butantan.gov.br/', 'https://en.butantan.gov.br/', 'https://en.butantan.gov.br/', 'https://en.butantan.gov.br/', 'https://en.butantan.gov.br/', 'https://en.butantan.gov.br/', 'https://en.butantan.gov.br/', 'https://en.butantan.gov.br/', 'https://en.butantan.gov.br/', 'https://en.butantan.gov.br/', 'https://en.butantan.gov.br/', 'https://en.butantan.gov.br/', 'https://en.butantan.gov.br/', 'https://en.butantan.gov.br/', 'https://en.butantan.gov.br/', 'https://en.butantan.gov.br/', 'https://en.butantan.gov.br/', 'https://en.butantan.gov.br/', 'https://en.butantan.gov.br/', 'https://en.butantan.gov.br/', 'https://en.butantan.gov.br/', 'https://en.butantan.gov.br/', 'https://en.butantan.gov.br/', 'https://en.butantan.gov.br/', 'https://en.butantan.gov.br/', 'https://en.butantan.gov.br/', 'https://en.butantan.gov.br/', 'https://en.butantan.gov.br/', 'https://en.butantan.gov.br/', 'https://en.butantan.gov.br/', 'https://en.butantan.gov.br/', 'https://en.butantan.gov.br/', 'https://en.butantan.gov.br/', 'https://en.butantan.gov.br/', 'https://en.butantan.gov.br/', 'https://en.butantan.gov.br/', 'https://en.butantan.gov.br/', 'https://en.butantan.gov.br/', 'https://en.butantan.gov.br/', 'https://en.butantan.gov.br/', 'https://en.butantan.gov.br/', 'https://en.butantan.gov.br/', 'https://en.butantan.gov.br/', 'https://en.butantan.gov.br/', 'https://en.butantan.gov.br/', 'https://en.butantan.gov.br/', 'https://en.butantan.gov.br/', 'https://en.butantan.gov.br/', 'https://en.butantan.gov.br/', 'https://en.butantan.gov.br/', 'https://en.butantan.gov.br/', 'https://en.butantan.gov.br/', 'https://en.butantan.gov.br/', 'https://en.butantan.gov.br/', 'https://en.butantan.gov.br/', 'https://en.butantan.gov.br/', 'https://en.butantan.gov.br/', 'https://en.butantan.gov.br/', 'https://en.butantan.gov.br/', 'https://en.butantan.gov.br/', 'https://en.butantan.gov.br/', 'https://en.butantan.gov.br/', 'https://en.butantan.gov.br/', 'https://en.butantan.gov.br/', 'https://en.butantan.gov.br/', 'https://en.butantan.gov.br/', 'https://en.butantan.gov.br/', 'https://en.butantan.gov.br/', 'https://en.butantan.gov.br/', 'https://en.butantan.gov.br/', 'https://en.butantan.gov.br/', 'https://en.butantan.gov.br/', 'https://en.butantan.gov.br/', 'https://en.butantan.gov.br/', 'https://en.butantan.gov.br/', 'https://en.butantan.gov.br/', 'https://en.butantan.gov.br/', 'https://en.butantan.gov.br/', 'https://en.butantan.gov.br/', 'https://en.butantan.gov.br/', 'https://en.butantan.gov.br/', 'https://en.butantan.gov.br/', 'https://en.butantan.gov.br/', 'https://en.butantan.gov.br/', 'https://en.butantan.gov.br/', 'https://en.butantan.gov.br/', 'https://en.butantan.gov.br/', 'https://en.butantan.gov.br/', 'https://en.butantan.gov.br/', 'https://en.butantan.gov.br/', 'https://en.butantan.gov.br/', 'https://en.butantan.gov.br/', 'https://en.butantan.gov.br/', 'https://en.butantan.gov.br/', 'https://en.butantan.gov.br/', 'https://en.butantan.gov.br/', 'https://en.butantan.gov.br/', 'https://en.butantan.gov.br/', 'https://en.butantan.gov.br/', 'https://en.butantan.gov.br/', 'https://en.butantan.gov.br/', 'https://en.butantan.gov.br/', 'https://en.butantan.gov.br/', 'https://en.butantan.gov.br/', 'https://en.butantan.gov.br/', 'https://en.butantan.gov.br/', 'https://en.butantan.gov.br/', 'https://en.butantan.gov.br/', 'https://en.butantan.gov.br/', 'https://en.butantan.gov.br/', 'https://en.butantan.gov.br/', 'https://en.butantan.gov.br/', 'https://en.butantan.gov.br/', 'https://en.butantan.gov.br/', 'https://en.butantan.gov.br/', 'https://en.butantan.gov.br/', 'https://en.butantan.gov.br/', 'https://en.butantan.gov.br/', 'https://en.butantan.gov.br/', 'https://en.butantan.gov.br/', 'https://en.butantan.gov.br/', 'https://en.butantan.gov.br/', 'https://en.butantan.gov.br/', 'https://en.butantan.gov.br/', 'https://en.butantan.gov.br/', 'https://en.butantan.gov.br/', 'https://en.butantan.gov.br/', 'https://en.butantan.gov.br/', 'https://en.butantan.gov.br/', 'https://en.butantan.gov.br/', 'https://en.butantan.gov.br/', 'https://en.butantan.gov.br/', 'https://en.butantan.gov.br/', 'https://en.butantan.gov.br/', 'https://en.butantan.gov.br/', 'https://en.butantan.gov.br/', 'https://en.butantan.gov.br/', 'https://en.butantan.gov.br/', 'https://en.butantan.gov.br/', 'https://en.butantan.gov.br/', 'https://en.butantan.gov.br/', 'https://en.butantan.gov.br/', 'https://en.butantan.gov.br/', 'https://en.butantan.gov.br/', 'https://en.butantan.gov.br/', 'https://en.butantan.gov.br/', 'https://en.butantan.gov.br/', 'https://en.butantan.gov.br/', 'https://en.butantan.gov.br/', 'https://en.butantan.gov.br/', 'https://en.butantan.gov.br/', 'https://en.butantan.gov.br/', 'https://en.butantan.gov.br/', 'https://en.butantan.gov.br/', 'https://en.butantan.gov.br/', 'https://en.butantan.gov.br/', 'https://en.butantan.gov.br/', 'https://en.butantan.gov.br/', 'https://en.butantan.gov.br/', 'https://en.butantan.gov.br/', 'https://en.butantan.gov.br/', 'https://en.butantan.gov.br/', 'https://en.butantan.gov.br/', 'https://en.butantan.gov.br/', 'https://en.butantan.gov.br/', 'https://en.butantan.gov.br/', 'https://en.butantan.gov.br/', 'https://en.butantan.gov.br/', 'https://en.butantan.gov.br/', 'https://en.butantan.gov.br/', 'https://en.butantan.gov.br/', 'https://en.butantan.gov.br/', 'https://en.butantan.gov.br/', 'https://en.butantan.gov.br/', 'https://en.butantan.gov.br/', 'https://en.butantan.gov.br/', 'https://en.butantan.gov.br/', 'https://en.butantan.gov.br/', 'https://en.butantan.gov.br/', 'https://en.butantan.gov.br/', 'https://en.butantan.gov.br/', 'https://en.butantan.gov.br/', 'https://en.butantan.gov.br/', 'https://en.butantan.gov.br/', 'https://en.butantan.gov.br/', 'https://en.butantan.gov.br/', 'https://en.butantan.gov.br/', 'https://en.butantan.gov.br/', 'https://en.butantan.gov.br/', 'https://en.butantan.gov.br/', 'https://en.butantan.gov.br/', 'https://en.butantan.gov.br/', 'https://en.butantan.gov.br/', 'https://en.butantan.gov.br/', 'https://en.butantan.gov.br/', 'https://en.butantan.gov.br/', 'https://en.butantan.gov.br/', 'https://en.butantan.gov.br/', 'https://en.butantan.gov.br/', 'https://en.butantan.gov.br/', 'https://en.butantan.gov.br/', 'https://en.butantan.gov.br/', 'https://en.butantan.gov.br/', 'https://en.butantan.gov.br/', 'https://en.butantan.gov.br/', 'https://en.butantan.gov.br/', 'https://en.butantan.gov.br/', 'https://en.butantan.gov.br/', 'https://en.butantan.gov.br/', 'https://en.butantan.gov.br/', 'https://en.butantan.gov.br/', 'https://en.butantan.gov.br/', 'https://en.butantan.gov.br/', 'https://en.butantan.gov.br/', 'https://en.butantan.gov.br/', 'https://en.butantan.gov.br/', 'https://en.butantan.gov.br/', 'https://en.butantan.gov.br/', 'https://en.butantan.gov.br/', 'https://en.butantan.gov.br/', 'https://en.butantan.gov.br/', 'https://en.butantan.gov.br/', 'https://en.butantan.gov.br/', 'https://en.butantan.gov.br/', 'https://en.butantan.gov.br/', 'https://en.butantan.gov.br/', 'https://en.butantan.gov.br/', 'https://en.butantan.gov.br/', 'https://en.butantan.gov.br/', 'https://en.butantan.gov.br/', 'https://en.butantan.gov.br/', 'https://en.butantan.gov.br/', 'https://en.butantan.gov.br/', 'https://en.butantan.gov.br/', 'https://en.butantan.gov.br/', 'https://en.butantan.gov.br/', 'https://en.butantan.gov.br/', 'https://en.butantan.gov.br/', 'https://en.butantan.gov.br/', 'https://en.butantan.gov.br/', 'https://en.butantan.gov.br/', 'https://en.butantan.gov.br/', 'https://en.butantan.gov.br/', 'https://en.butantan.gov.br/', 'https://en.butantan.gov.br/', 'https://en.butantan.gov.br/', 'https://en.butantan.gov.br/', 'https://en.butantan.gov.br/', 'https://en.butantan.gov.br/', 'https://en.butantan.gov.br/', 'https://en.butantan.gov.br/', 'https://en.butantan.gov.br/', 'https://en.butantan.gov.br/', 'https://en.butantan.gov.br/', 'https://en.butantan.gov.br/', 'https://en.butantan.gov.br/', 'https://en.butantan.gov.br/', 'https://en.butantan.gov.br/', 'https://en.butantan.gov.br/', 'https://en.butantan.gov.br/', 'https://en.butantan.gov.br/', 'https://en.butantan.gov.br/', 'https://en.butantan.gov.br/', 'https://en.butantan.gov.br/', 'https://en.butantan.gov.br/', 'https://en.butantan.gov.br/', 'https://en.butantan.gov.br/', 'https://en.butantan.gov.br/', 'https://en.butantan.gov.br/', 'https://en.butantan.gov.br/', 'https://en.butantan.gov.br/', 'https://en.butantan.gov.br/', 'https://en.butantan.gov.br/', 'https://en.butantan.gov.br/', 'https://en.butantan.gov.br/', 'https://en.butantan.gov.br/', 'https://en.butantan.gov.br/', 'https://en.butantan.gov.br/', 'https://en.butantan.gov.br/', 'https://en.butantan.gov.br/', 'https://en.butantan.gov.br/', 'https://en.butantan.gov.br/', 'https://en.butantan.gov.br/', 'https://en.butantan.gov.br/', 'https://en.butantan.gov.br/', 'https://en.butantan.gov.br/', 'https://en.butantan.gov.br/', 'https://en.butantan.gov.br/', 'https://en.butantan.gov.br/', 'https://en.butantan.gov.br/', 'https://en.butantan.gov.br/', 'https://en.butantan.gov.br/', 'https://en.butantan.gov.br/', 'https://en.butantan.gov.br/', 'https://en.butantan.gov.br/', 'https://en.butantan.gov.br/', 'https://en.butantan.gov.br/', 'https://en.butantan.gov.br/', 'https://en.butantan.gov.br/', 'https://en.butantan.gov.br/', 'https://en.butantan.gov.br/', 'https://en.butantan.gov.br/', 'https://en.butantan.gov.br/', 'https://en.butantan.gov.br/', 'https://en.butantan.gov.br/', 'https://en.butantan.gov.br/', 'https://en.butantan.gov.br/', 'https://en.butantan.gov.br/', 'https://en.butantan.gov.br/', 'https://en.butantan.gov.br/', 'https://en.butantan.gov.br/', 'https://en.butantan.gov.br/', 'https://en.butantan.gov.br/', 'https://en.butantan.gov.br/', 'https://en.butantan.gov.br/', 'https://en.butantan.gov.br/', 'https://en.butantan.gov.br/', 'https://en.butantan.gov.br/', 'https://en.butantan.gov.br/', 'https://en.butantan.gov.br/', 'https://en.butantan.gov.br/', 'https://en.butantan.gov.br/', 'https://en.butantan.gov.br/', 'https://en.butantan.gov.br/', 'https://en.butantan.gov.br/', 'https://en.butantan.gov.br/', 'https://en.butantan.gov.br/', 'https://en.butantan.gov.br/', 'https://en.butantan.gov.br/', 'https://en.butantan.gov.br/', 'https://en.butantan.gov.br/', 'https://en.butantan.gov.br/', 'https://en.butantan.gov.br/', 'https://en.butantan.gov.br/', 'https://en.butantan.gov.br/', 'https://en.butantan.gov.br/', 'https://en.butantan.gov.br/', 'https://en.butantan.gov.br/', 'https://en.butantan.gov.br/', 'https://en.butantan.gov.br/', 'https://en.butantan.gov.br/', 'https://en.butantan.gov.br/', 'https://en.butantan.gov.br/', 'https://en.butantan.gov.br/', 'https://en.butantan.gov.br/', 'https://en.butantan.gov.br/', 'https://en.butantan.gov.br/', 'https://en.butantan.gov.br/', 'https://en.butantan.gov.br/', 'https://en.butantan.gov.br/', 'https://en.butantan.gov.br/', 'https://en.butantan.gov.br/', 'https://en.butantan.gov.br/', 'https://en.butantan.gov.br/', 'https://en.butantan.gov.br/', 'https://en.butantan.gov.br/', 'https://en.butantan.gov.br/', 'https://en.butantan.gov.br/', 'https://en.butantan.gov.br/', 'https://en.butantan.gov.br/', 'https://en.butantan.gov.br/', 'https://en.butantan.gov.br/', 'https://en.butantan.gov.br/', 'https://en.butantan.gov.br/', 'https://en.butantan.gov.br/', 'https://en.butantan.gov.br/', 'https://en.butantan.gov.br/', 'https://en.butantan.gov.br/', 'https://en.butantan.gov.br/', 'https://en.butantan.gov.br/', 'https://en.butantan.gov.br/', 'https://en.butantan.gov.br/', 'https://en.butantan.gov.br/', 'https://en.butantan.gov.br/', 'https://en.butantan.gov.br/', 'https://en.butantan.gov.br/', 'https://en.butantan.gov.br/', 'https://en.butantan.gov.br/', 'https://en.butantan.gov.br/', 'https://en.butantan.gov.br/', 'https://en.butantan.gov.br/', 'https://en.butantan.gov.br/', 'https://en.butantan.gov.br/', 'https://en.butantan.gov.br/', 'https://en.butantan.gov.br/', 'https://en.butantan.gov.br/', 'https://en.butantan.gov.br/', 'https://en.butantan.gov.br/', 'https://en.butantan.gov.br/', 'https://en.butantan.gov.br/', 'https://en.butantan.gov.br/', 'https://en.butantan.gov.br/', 'https://en.butantan.gov.br/', 'https://en.butantan.gov.br/', 'https://en.butantan.gov.br/', 'https://en.butantan.gov.br/', 'https://en.butantan.gov.br/', 'https://en.butantan.gov.br/', 'https://en.butantan.gov.br/', 'https://en.butantan.gov.br/', 'https://en.butantan.gov.br/', 'https://en.butantan.gov.br/', 'https://en.butantan.gov.br/', 'https://en.butantan.gov.br/', 'https://en.butantan.gov.br/', 'https://en.butantan.gov.br/', 'https://en.butantan.gov.br/', 'https://en.butantan.gov.br/', 'https://en.butantan.gov.br/', 'https://en.butantan.gov.br/', 'https://en.butantan.gov.br/', 'https://en.butantan.gov.br/', 'https://en.butantan.gov.br/', 'https://en.butantan.gov.br/', 'https://en.butantan.gov.br/', 'https://en.butantan.gov.br/', 'https://en.butantan.gov.br/', 'https://en.butantan.gov.br/', 'https://en.butantan.gov.br/', 'https://en.butantan.gov.br/', 'https://en.butantan.gov.br/', 'https://en.butantan.gov.br/', 'https://en.butantan.gov.br/', 'https://en.butantan.gov.br/', 'https://en.butantan.gov.br/', 'https://en.butantan.gov.br/', 'https://en.butantan.gov.br/', 'https://en.butantan.gov.br/', 'https://en.butantan.gov.br/', 'https://en.butantan.gov.br/', 'https://en.butantan.gov.br/', 'https://en.butantan.gov.br/', 'https://en.butantan.gov.br/', 'https://en.butantan.gov.br/', 'https://en.butantan.gov.br/', 'https://en.butantan.gov.br/', 'https://en.butantan.gov.br/', 'https://en.butantan.gov.br/', 'https://en.butantan.gov.br/', 'https://en.butantan.gov.br/', 'https://en.butantan.gov.br/', 'https://en.butantan.gov.br/', 'https://en.butantan.gov.br/', 'https://en.butantan.gov.br/', 'https://en.butantan.gov.br/', 'https://en.butantan.gov.br/', 'https://en.butantan.gov.br/', 'https://en.butantan.gov.br/', 'https://en.butantan.gov.br/', 'https://en.butantan.gov.br/', 'https://en.butantan.gov.br/', 'https://en.butantan.gov.br/', 'https://en.butantan.gov.br/', 'https://en.butantan.gov.br/', 'https://en.butantan.gov.br/', 'https://en.butantan.gov.br/', 'https://en.butantan.gov.br/', 'https://en.butantan.gov.br/', 'https://en.butantan.gov.br/', 'https://en.butantan.gov.br/', 'https://en.butantan.gov.br/', 'https://en.butantan.gov.br/', 'https://en.butantan.gov.br/', 'https://en.butantan.gov.br/', 'https://en.butantan.gov.br/', 'https://en.butantan.gov.br/', 'https://en.butantan.gov.br/', 'https://en.butantan.gov.br/', 'https://en.butantan.gov.br/', 'https://en.butantan.gov.br/', 'https://en.butantan.gov.br/', 'https://en.butantan.gov.br/', 'https://en.butantan.gov.br/', 'https://en.butantan.gov.br/', 'https://en.butantan.gov.br/', 'https://en.butantan.gov.br/', 'https://en.butantan.gov.br/', 'https://en.butantan.gov.br/', 'https://en.butantan.gov.br/', 'https://en.butantan.gov.br/', 'https://en.butantan.gov.br/', 'https://en.butantan.gov.br/', 'https://en.butantan.gov.br/', 'https://en.butantan.gov.br/', 'https://en.butantan.gov.br/', 'https://en.butantan.gov.br/', 'https://en.butantan.gov.br/', 'https://en.butantan.gov.br/', 'https://en.butantan.gov.br/', 'https://en.butantan.gov.br/', 'https://en.butantan.gov.br/', 'https://en.butantan.gov.br/', 'https://en.butantan.gov.br/', 'https://en.butantan.gov.br/', 'https://en.butantan.gov.br/', 'https://en.butantan.gov.br/', 'https://en.butantan.gov.br/', 'https://en.butantan.gov.br/', 'https://en.butantan.gov.br/', 'https://en.butantan.gov.br/', 'https://en.butantan.gov.br/', 'https://en.butantan.gov.br/', 'https://en.butantan.gov.br/', 'https://en.butantan.gov.br/', 'https://en.butantan.gov.br/', 'https://en.butantan.gov.br/', 'https://en.butantan.gov.br/', 'https://en.butantan.gov.br/', 'https://en.butantan.gov.br/', 'https://en.butantan.gov.br/', 'https://en.butantan.gov.br/', 'https://en.butantan.gov.br/', 'https://en.butantan.gov.br/', 'https://en.butantan.gov.br/', 'https://en.butantan.gov.br/', 'https://en.butantan.gov.br/', 'https://en.butantan.gov.br/', 'https://en.butantan.gov.br/', 'https://en.butantan.gov.br/', 'https://en.butantan.gov.br/', 'https://en.butantan.gov.br/', 'https://en.butantan.gov.br/', 'https://en.butantan.gov.br/', 'https://en.butantan.gov.br/', 'https://en.butantan.gov.br/', 'https://en.butantan.gov.br/', 'https://en.butantan.gov.br/', 'https://en.butantan.gov.br/', 'https://en.butantan.gov.br/', 'https://en.butantan.gov.br/', 'https://en.butantan.gov.br/', 'https://en.butantan.gov.br/', 'https://en.butantan.gov.br/', 'https://en.butantan.gov.br/', 'https://en.butantan.gov.br/', 'https://en.butantan.gov.br/', 'https://en.butantan.gov.br/', 'https://en.butantan.gov.br/', 'https://en.butantan.gov.br/', 'https://en.butantan.gov.br/', 'https://en.butantan.gov.br/', 'https://en.butantan.gov.br/', 'https://en.butantan.gov.br/', 'https://en.butantan.gov.br/', 'https://en.butantan.gov.br/', 'https://en.butantan.gov.br/', 'https://en.butantan.gov.br/', 'https://en.butantan.gov.br/', 'https://en.butantan.gov.br/', 'https://en.butantan.gov.br/', 'https://en.butantan.gov.br/', 'https://en.butantan.gov.br/', 'https://en.butantan.gov.br/', 'https://en.butantan.gov.br/', 'https://en.butantan.gov.br/', 'https://en.butantan.gov.br/', 'https://en.butantan.gov.br/', 'https://en.butantan.gov.br/', 'https://en.butantan.gov.br/', 'https://en.butantan.gov.br/', 'https://en.butantan.gov.br/', 'https://en.butantan.gov.br/', 'https://en.butantan.gov.br/', 'https://en.butantan.gov.br/', 'https://en.butantan.gov.br/', 'https://en.butantan.gov.br/', 'https://en.butantan.gov.br/', 'https://en.butantan.gov.br/', 'https://en.butantan.gov.br/', 'https://en.butantan.gov.br/', 'https://en.butantan.gov.br/', 'https://en.butantan.gov.br/', 'https://en.butantan.gov.br/', 'https://en.butantan.gov.br/', 'https://en.butantan.gov.br/', 'https://en.butantan.gov.br/', 'https://en.butantan.gov.br/', 'https://en.butantan.gov.br/', 'https://en.butantan.gov.br/', 'https://en.butantan.gov.br/', 'https://en.butantan.gov.br/', 'https://en.butantan.gov.br/', 'https://en.butantan.gov.br/', 'https://en.butantan.gov.br/', 'https://en.butantan.gov.br/', 'https://en.butantan.gov.br/', 'https://en.butantan.gov.br/', 'https://en.butantan.gov.br/', 'https://en.butantan.gov.br/', 'https://en.butantan.gov.br/', 'https://en.butantan.gov.br/', 'https://en.butantan.gov.br/', 'https://en.butantan.gov.br/', 'https://en.butantan.gov.br/', 'https://en.butantan.gov.br/', 'https://en.butantan.gov.br/', 'https://en.butantan.gov.br/', 'https://en.butantan.gov.br/', 'https://en.butantan.gov.br/', 'https://en.butantan.gov.br/', 'https://en.butantan.gov.br/', 'https://en.butantan.gov.br/', 'https://en.butantan.gov.br/', 'https://en.butantan.gov.br/', 'https://en.butantan.gov.br/', 'https://en.butantan.gov.br/', 'https://en.butantan.gov.br/', 'https://en.butantan.gov.br/', 'https://en.butantan.gov.br/', 'https://en.butantan.gov.br/', 'https://en.butantan.gov.br/', 'https://en.butantan.gov.br/', 'https://en.butantan.gov.br/', 'https://en.butantan.gov.br/', 'https://en.butantan.gov.br/', 'https://en.butantan.gov.br/', 'https://en.butantan.gov.br/', 'https://en.butantan.gov.br/', 'https://en.butantan.gov.br/', 'https://en.butantan.gov.br/', 'https://en.butantan.gov.br/', 'https://en.butantan.gov.br/', 'https://en.butantan.gov.br/', 'https://en.butantan.gov.br/', 'https://en.butantan.gov.br/', 'https://en.butantan.gov.br/', 'https://en.butantan.gov.br/', 'https://en.butantan.gov.br/', 'https://en.butantan.gov.br/', 'https://en.butantan.gov.br/', 'https://en.butantan.gov.br/', 'https://en.butantan.gov.br/', 'https://en.butantan.gov.br/', 'https://en.butantan.gov.br/', 'https://en.butantan.gov.br/', 'https://en.butantan.gov.br/', 'https://en.butantan.gov.br/', 'https://en.butantan.gov.br/', 'https://en.butantan.gov.br/', 'https://en.butantan.gov.br/', 'https://en.butantan.gov.br/', 'https://en.butantan.gov.br/', 'https://en.butantan.gov.br/', 'https://en.butantan.gov.br/', 'https://en.butantan.gov.br/', 'https://en.butantan.gov.br/', 'https://en.butantan.gov.br/', 'https://en.butantan.gov.br/', 'https://en.butantan.gov.br/', 'https://en.butantan.gov.br/', 'https://en.butantan.gov.br/', 'https://en.butantan.gov.br/', 'https://en.butantan.gov.br/', 'https://en.butantan.gov.br/', 'https://en.butantan.gov.br/', 'https://en.butantan.gov.br/', 'https://en.butantan.gov.br/', 'https://en.butantan.gov.br/', 'https://en.butantan.gov.br/', 'https://en.butantan.gov.br/', 'https://en.butantan.gov.br/', 'https://en.butantan.gov.br/', 'https://en.butantan.gov.br/', 'https://en.butantan.gov.br/', 'https://en.butantan.gov.br/', 'https://en.butantan.gov.br/', 'https://en.butantan.gov.br/', 'https://en.butantan.gov.br/', 'https://en.butantan.gov.br/', 'https://en.butantan.gov.br/', 'https://en.butantan.gov.br/', 'https://en.butantan.gov.br/', 'https://en.butantan.gov.br/', 'https://en.butantan.gov.br/', 'https://en.butantan.gov.br/', 'https://en.butantan.gov.br/', 'https://en.butantan.gov.br/', 'https://en.butantan.gov.br/', 'https://en.butantan.gov.br/', 'https://en.butantan.gov.br/', 'https://en.butantan.gov.br/', 'https://en.butantan.gov.br/', 'https://en.butantan.gov.br/', 'https://en.butantan.gov.br/', 'https://en.butantan.gov.br/', 'https://en.butantan.gov.br/', 'https://en.butantan.gov.br/', 'https://en.butantan.gov.br/', 'https://en.butantan.gov.br/', 'https://en.butantan.gov.br/', 'https://en.butantan.gov.br/', 'https://en.butantan.gov.br/', 'https://en.butantan.gov.br/', 'https://en.butantan.gov.br/', 'https://en.butantan.gov.br/', 'https://en.butantan.gov.br/', 'https://en.butantan.gov.br/', 'https://en.butantan.gov.br/', 'https://en.butantan.gov.br/', 'https://en.butantan.gov.br/', 'https://en.butantan.gov.br/', 'https://en.butantan.gov.br/', 'https://en.butantan.gov.br/', 'https://en.butantan.gov.br/', 'https://en.butantan.gov.br/', 'https://en.butantan.gov.br/', 'https://en.butantan.gov.br/', 'https://en.butantan.gov.br/', 'https://en.butantan.gov.br/', 'https://en.butantan.gov.br/', 'https://en.butantan.gov.br/', 'https://en.butantan.gov.br/', 'https://en.butantan.gov.br/', 'https://en.butantan.gov.br/', 'https://en.butantan.gov.br/', 'https://en.butantan.gov.br/', 'https://en.butantan.gov.br/', 'https://en.butantan.gov.br/', 'https://en.butantan.gov.br/', 'https://en.butantan.gov.br/', 'https://en.butantan.gov.br/', 'https://en.butantan.gov.br/', 'https://en.butantan.gov.br/', 'https://en.butantan.gov.br/', 'https://en.butantan.gov.br/', 'https://en.butantan.gov.br/', 'https://en.butantan.gov.br/', 'https://en.butantan.gov.br/', 'https://en.butantan.gov.br/', 'https://en.butantan.gov.br/', 'https://en.butantan.gov.br/', 'https://en.butantan.gov.br/', 'https://en.butantan.gov.br/', 'https://en.butantan.gov.br/', 'https://en.butantan.gov.br/', 'https://en.butantan.gov.br/', 'https://en.butantan.gov.br/', 'https://en.butantan.gov.br/', 'https://en.butantan.gov.br/', 'https://en.butantan.gov.br/', 'https://en.butantan.gov.br/', 'https://en.butantan.gov.br/', 'https://en.butantan.gov.br/', 'https://en.butantan.gov.br/', 'https://en.butantan.gov.br/', 'https://en.butantan.gov.br/', 'https://en.butantan.gov.br/', 'https://en.butantan.gov.br/', 'https://en.butantan.gov.br/', 'https://en.butantan.gov.br/', 'https://en.butantan.gov.br/', 'https://en.butantan.gov.br/', 'https://en.butantan.gov.br/', 'https://en.butantan.gov.br/', 'https://en.butantan.gov.br/', 'https://en.butantan.gov.br/', 'https://en.butantan.gov.br/', 'https://en.butantan.gov.br/', 'https://en.butantan.gov.br/', 'https://en.butantan.gov.br/', 'https://en.butantan.gov.br/', 'https://en.butantan.gov.br/', 'https://en.butantan.gov.br/', 'https://en.butantan.gov.br/', 'https://en.butantan.gov.br/', 'https://en.butantan.gov.br/', 'https://en.butantan.gov.br/', 'https://en.butantan.gov.br/', 'https://en.butantan.gov.br/', 'https://en.butantan.gov.br/', 'https://en.butantan.gov.br/', 'https://en.butantan.gov.br/', 'https://en.butantan.gov.br/', 'https://en.butantan.gov.br/', 'https://en.butantan.gov.br/', 'https://en.butantan.gov.br/', 'https://en.butantan.gov.br/', 'https://en.butantan.gov.br/', 'https://en.butantan.gov.br/', 'https://en.butantan.gov.br/', 'https://en.butantan.gov.br/', 'https://en.butantan.gov.br/', 'https://en.butantan.gov.br/', 'https://en.butantan.gov.br/', 'https://en.butantan.gov.br/', 'https://en.butantan.gov.br/', 'https://en.butantan.gov.br/', 'https://en.butantan.gov.br/', 'https://en.butantan.gov.br/', 'https://en.butantan.gov.br/', 'https://en.butantan.gov.br/', 'https://en.butantan.gov.br/', 'https://en.butantan.gov.br/', 'https://en.butantan.gov.br/', 'https://en.butantan.gov.br/', 'https://en.butantan.gov.br/', 'https://en.butantan.gov.br/', 'https://en.butantan.gov.br/', 'https://en.butantan.gov.br/', 'https://en.butantan.gov.br/', 'https://en.butantan.gov.br/', 'https://en.butantan.gov.br/', 'https://en.butantan.gov.br/', 'https://en.butantan.gov.br/', 'https://en.butantan.gov.br/', 'https://en.butantan.gov.br/', 'https://en.butantan.gov.br/', 'https://en.butantan.gov.br/', 'https://en.butantan.gov.br/', 'https://en.butantan.gov.br/', 'https://en.butantan.gov.br/', 'https://en.butantan.gov.br/', 'https://en.butantan.gov.br/', 'https://en.butantan.gov.br/', 'https://en.butantan.gov.br/', 'https://en.butantan.gov.br/', 'https://en.butantan.gov.br/', 'https://en.butantan.gov.br/', 'https://en.butantan.gov.br/', 'https://en.butantan.gov.br/', 'https://en.butantan.gov.br/', 'https://en.butantan.gov.br/', 'https://en.butantan.gov.br/', 'https://en.butantan.gov.br/', 'https://en.butantan.gov.br/', 'https://en.butantan.gov.br/', 'https://en.butantan.gov.br/', 'https://en.butantan.gov.br/', 'https://en.butantan.gov.br/', 'https://en.butantan.gov.br/', 'https://en.butantan.gov.br/', 'https://en.butantan.gov.br/', 'https://en.butantan.gov.br/', 'https://en.butantan.gov.br/', 'https://en.butantan.gov.br/', 'https://en.butantan.gov.br/', 'https://en.butantan.gov.br/', 'https://en.butantan.gov.br/', 'https://en.butantan.gov.br/', 'https://en.butantan.gov.br/', 'https://en.butantan.gov.br/', 'https://en.butantan.gov.br/', 'https://en.butantan.gov.br/', 'https://en.butantan.gov.br/', 'https://en.butantan.gov.br/', 'https://en.butantan.gov.br/', 'https://en.butantan.gov.br/', 'https://en.butantan.gov.br/', 'https://en.butantan.gov.br/', 'https://en.butantan.gov.br/', 'https://en.butantan.gov.br/', 'https://en.butantan.gov.br/', 'https://en.butantan.gov.br/', 'https://en.butantan.gov.br/', 'https://en.butantan.gov.br/', 'https://en.butantan.gov.br/', 'https://en.butantan.gov.br/', 'https://en.butantan.gov.br/', 'https://en.butantan.gov.br/', 'https://en.butantan.gov.br/', 'https://en.butantan.gov.br/', 'https://en.butantan.gov.br/', 'https://en.butantan.gov.br/', 'https://en.butantan.gov.br/', 'https://en.butantan.gov.br/', 'https://en.butantan.gov.br/', 'https://en.butantan.gov.br/', 'https://en.butantan.gov.br/', 'https://en.butantan.gov.br/', 'https://en.butantan.gov.br/', 'https://en.butantan.gov.br/', 'https://en.butantan.gov.br/', 'https://en.butantan.gov.br/', 'https://en.butantan.gov.br/', 'https://en.butantan.gov.br/', 'https://en.butantan.gov.br/', 'https://en.butantan.gov.br/', 'https://en.butantan.gov.br/', 'https://en.butantan.gov.br/', 'https://en.butantan.gov.br/', 'https://en.butantan.gov.br/', 'https://en.butantan.gov.br/', 'https://en.butantan.gov.br/', 'https://en.butantan.gov.br/', 'https://en.butantan.gov.br/', 'https://en.butantan.gov.br/', 'https://en.butantan.gov.br/', 'https://en.butantan.gov.br/', 'https://en.butantan.gov.br/', 'https://en.butantan.gov.br/', 'https://en.butantan.gov.br/', 'https://en.butantan.gov.br/', 'https://en.butantan.gov.br/', 'https://en.butantan.gov.br/', 'https://en.butantan.gov.br/', 'https://en.butantan.gov.br/', 'https://en.butantan.gov.br/', 'https://en.butantan.gov.br/', 'https://en.butantan.gov.br/', 'https://en.butantan.gov.br/', 'https://en.butantan.gov.br/', 'https://en.butantan.gov.br/', 'https://en.butantan.gov.br/', 'https://en.butantan.gov.br/', 'https://en.butantan.gov.br/', 'https://en.butantan.gov.br/', 'https://en.butantan.gov.br/', 'https://en.butantan.gov.br/', 'https://en.butantan.gov.br/', 'https://en.butantan.gov.br/', 'https://en.butantan.gov.br/', 'https://en.butantan.gov.br/', 'https://en.butantan.gov.br/', 'https://en.butantan.gov.br/', 'https://en.butantan.gov.br/', 'https://en.butantan.gov.br/', 'https://en.butantan.gov.br/', 'https://en.butantan.gov.br/', 'https://en.butantan.gov.br/', 'https://en.butantan.gov.br/', 'https://en.butantan.gov.br/', 'https://en.butantan.gov.br/', 'https://en.butantan.gov.br/', 'https://en.butantan.gov.br/', 'https://en.butantan.gov.br/', 'https://en.butantan.gov.br/', 'https://en.butantan.gov.br/', 'https://escolasuperior.butantan.gov.br/', 'https://publicacoeseducativas.butantan.gov.br/', 'https://repositorioacervohistorico.butantan.gov.br/', 'https://en.butantan.gov.br/', 'https://en.butantan.gov.br/', 'https://en.butantan.gov.br/', 'https://en.butantan.gov.br/', 'https://en.butantan.gov.br/', 'https://en.butantan.gov.br/', 'https://en.butantan.gov.br/', 'https://en.butantan.gov.br/', 'https://en.butantan.gov.br/', 'https://en.butantan.gov.br/', 'https://en.butantan.gov.br/', 'https://en.butantan.gov.br/', 'https://en.butantan.gov.br/', 'https://en.butantan.gov.br/', 'https://en.butantan.gov.br/', 'https://en.butantan.gov.br/', 'https://en.butantan.gov.br/', 'https://en.butantan.gov.br/', 'https://en.butantan.gov.br/', 'https://en.butantan.gov.br/', 'https://en.butantan.gov.br/', 'https://en.butantan.gov.br/', 'https://en.butantan.gov.br/', 'https://en.butantan.gov.br/', 'https://en.butantan.gov.br/', 'https://en.butantan.gov.br/', 'https://en.butantan.gov.br/', 'https://en.butantan.gov.br/', 'https://en.butantan.gov.br/', 'https://en.butantan.gov.br/', 'https://en.butantan.gov.br/', 'https://vacinacovid.butantan.gov.br/', 'https://en.butantan.gov.br/', 'https://terapiacelular.butantan.gov.br/', 'https://en.butantan.gov.br/', 'https://en.butantan.gov.br/', 'https://en.butantan.gov.br/', 'https://en.butantan.gov.br/', 'https://en.butantan.gov.br/', 'https://en.butantan.gov.br/', 'https://en.butantan.gov.br/', 'https://en.butantan.gov.br/', 'https://en.butantan.gov.br/', 'https://en.butantan.gov.br/', 'https://en.butantan.gov.br/', 'https://en.butantan.gov.br/', 'https://en.butantan.gov.br/', 'https://en.butantan.gov.br/', 'https://en.butantan.gov.br/', 'https://en.butantan.gov.br/', 'https://en.butantan.gov.br/', 'https://en.butantan.gov.br/', 'https://en.butantan.gov.br/', 'https://en.butantan.gov.br/', 'https://en.butantan.gov.br/', 'https://en.butantan.gov.br/', 'https://en.butantan.gov.br/', 'https://en.butantan.gov.br/', 'https://en.butantan.gov.br/', 'https://en.butantan.gov.br/', 'https://en.butantan.gov.br/', 'https://en.butantan.gov.br/', 'https://en.butantan.gov.br/', 'https://en.butantan.gov.br/', 'https://en.butantan.gov.br/', 'https://en.butantan.gov.br/', 'https://en.butantan.gov.br/', 'https://en.butantan.gov.br/', 'https://en.butantan.gov.br/', 'https://en.butantan.gov.br/', 'https://en.butantan.gov.br/', 'https://en.butantan.gov.br/', 'https://en.butantan.gov.br/', 'https://en.butantan.gov.br/', 'https://en.butantan.gov.br/']\n"
     ]
    },
    {
     "name": "stderr",
     "output_type": "stream",
     "text": [
      "\r",
      "100%|██████████████████████████████████████████████████████████████████████████████| 1739/1739 [03:12<00:00, 10.04it/s]"
     ]
    }
   ],
   "source": [
    "# Obtendo lista de links da página\n",
    "\n",
    "# Listando elementos com a tag <a>\n",
    "lista_links = navegador.find_elements(By.TAG_NAME, 'a')\n",
    "\n",
    "# Lista de links externos\n",
    "links_externos = list()\n",
    "\n",
    "# Criando barra de progresso\n",
    "from tqdm import tqdm\n",
    "pbar = tqdm(total=len(lista_links), position=0, leave=True)\n",
    "\n",
    "# Fazendo varredura e verifica qual link é externo\n",
    "for link in lista_links:\n",
    "    pbar.update()\n",
    "    atrib_rel = navegador.find_element(By.LINK_TEXT, link.text).get_attribute('target')\n",
    "    atrib_href = navegador.find_element(By.LINK_TEXT, link.text).get_attribute('href')\n",
    "    if atrib_rel == '_blank':\n",
    "        links_externos.append(atrib_href)\n",
    "\n",
    "print(links_externos)\n"
   ]
  },
  {
   "cell_type": "markdown",
   "id": "6756ad8d",
   "metadata": {},
   "source": [
    "# Analisando a página pelo HTML\n",
    "\n",
    "Uma página em HTML contém muitas __tags__ e debtro delas contém outras e outras, nesse sentido podemos percorrer uma lista de tags buscadas para extrair algum atributo específico de cada tag. Vamos ver um exemplo prático.\n",
    "<br>\n",
    "Imagine que você queira analisar uma página que tem como parte a seguinte estrutura:\n",
    "```\n",
    "...\n",
    "    <figure class=\"classe-das-figuras\">\n",
    "        <a href=\"https://site.com/parte_site/exemplo_1/\">\n",
    "            <img>\n",
    "        </a>\n",
    "    </figure>\n",
    "    <figure class=\"classe-das-figuras\">\n",
    "        <a href=\"https://site.com/parte_site/exemplo_2/\">\n",
    "            <img>\n",
    "        </a>\n",
    "    </figure>\n",
    "    <figure class=\"classe-das-figuras\">\n",
    "        <a href=\"https://site.com/parte_site/exemplo_3/\">\n",
    "            <img>\n",
    "        </a>\n",
    "    </figure>\n",
    "...\n",
    "```\n",
    "\n",
    "Nesse caso se deseja extrair os links das imagens poderia fazer uma lista de todas __figure class=\"classe-das-figuras\"__ e então percorrer ela para obter o atributo __href__ da tag ```<a>```. Isso é muito eficiente, pois não precisa percorrer o site inteiro, e isso levaria mais tempo.<br>\n",
    "Isso vale também para casos em que o ```click()``` não funciona e dá algum erro, se isso ocorrer basta dar um jeito analisando o html e obtendo o link do botão."
   ]
  },
  {
   "cell_type": "markdown",
   "id": "bfba835f",
   "metadata": {},
   "source": [
    "# Interação do python usando selenium e formulários dos sites\n",
    "\n"
   ]
  },
  {
   "cell_type": "code",
   "execution_count": null,
   "id": "b13b1c26",
   "metadata": {},
   "outputs": [],
   "source": []
  }
 ],
 "metadata": {
  "kernelspec": {
   "display_name": "Python 3 (ipykernel)",
   "language": "python",
   "name": "python3"
  },
  "language_info": {
   "codemirror_mode": {
    "name": "ipython",
    "version": 3
   },
   "file_extension": ".py",
   "mimetype": "text/x-python",
   "name": "python",
   "nbconvert_exporter": "python",
   "pygments_lexer": "ipython3",
   "version": "3.11.3"
  }
 },
 "nbformat": 4,
 "nbformat_minor": 5
}
