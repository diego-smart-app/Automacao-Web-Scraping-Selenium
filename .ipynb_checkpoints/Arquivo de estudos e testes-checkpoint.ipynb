{
 "cells": [
  {
   "cell_type": "markdown",
   "id": "eefb54b5",
   "metadata": {},
   "source": [
    "# Instalação\n",
    "\n",
    "## Passos necessários\n",
    "* Baixar / atualizar o Selenium com ```pip install --upgrade selenium``` no prompt do anaconda (mantenha-o atualizado)\n",
    "* Usar o chrome, pois tem total compatibilidade com o selenium\n",
    "* Verifcar a versão do seu Google Chrome\n",
    "* baixar o google driver [https://chromedriver.chromium.org/downloads](https://chromedriver.chromium.org/downloads)\n",
    "* Ao baixar, extraia o arquivo e cole onde está instalado o python. No meu caso é: __C:\\Users\\Diego\\anaconda3__\n",
    "\n",
    "## Agora basta executar o comando pra abrir o navegador"
   ]
  },
  {
   "cell_type": "code",
   "execution_count": 17,
   "id": "c7502d28",
   "metadata": {},
   "outputs": [],
   "source": [
    "from selenium import webdriver\n",
    "\n",
    "driver = webdriver.Chrome()\n"
   ]
  },
  {
   "cell_type": "markdown",
   "id": "bb2f08ab",
   "metadata": {},
   "source": [
    "## Chromedriver em outro local\n",
    "\n",
    "Você pode deixar o __chromewebdriver__ em outro local do computador, para isso precisamos de outra biblioteca e usar o método ```Service```.\\\n",
    "Veja como fica:\n",
    "```\n",
    "from selenium import webdriver\n",
    "from selenium.webdriver.chrome.service import Service\n",
    "\n",
    "servico = Service(r'caminho\\webdriver.exe')\n",
    "\n",
    "driver = webdriver.Chrome(service=servico)\n",
    "```\n",
    "__Observação:__ No linux ou MAC não coloque __.exe__\n",
    "\n",
    "\n",
    "## Gerenciador de webdriver\n",
    "\n",
    "O código a seguir permite instalar o webdriver correspondente ao seu navegador, ele faz isso toda vez que o código é iniciado. Mas pra isso você deve instalar o __webdriver-manager__:\n",
    "```\n",
    "pip install webdriver-manager\n",
    "```\n",
    "## Depois é só rodar o código"
   ]
  },
  {
   "cell_type": "code",
   "execution_count": 18,
   "id": "a23126d8",
   "metadata": {},
   "outputs": [],
   "source": [
    "from selenium import webdriver\n",
    "from selenium.webdriver.chrome.service import Service\n",
    "from webdriver_manager.chrome import ChromeDriverManager\n",
    "\n",
    "servico = Service(ChromeDriverManager().install())\n",
    "driver = webdriver.Chrome(service=servico)\n"
   ]
  },
  {
   "cell_type": "markdown",
   "id": "ed2feb81",
   "metadata": {},
   "source": [
    "# Abrindo uma página específica\n",
    "\n",
    "Para abrir um site basta usar o comando __.get(link)__.\\\n",
    "\n",
    "No caso do exemplo acima usamos:\n",
    "```\n",
    "link = 'https:/www.site.com/'\n",
    "driver.get(link)\n",
    "```\n",
    "Se quiser mais de uma página, crie vários navegadores e pra cada um use o __.get()__\n",
    "\n",
    "## Também é possível abrir um arquivo em html\n",
    "Pra isso basta usar o caminho do arquivo\n",
    "```\n",
    "link = r'C:\\Users\\Fulano\\Documents\\Arquivo.html'\n",
    "driver.get(link)\n",
    "```"
   ]
  },
  {
   "cell_type": "code",
   "execution_count": 19,
   "id": "94d8f572",
   "metadata": {},
   "outputs": [],
   "source": [
    "from selenium import webdriver\n",
    "from selenium.webdriver.chrome.service import Service\n",
    "from webdriver_manager.chrome import ChromeDriverManager\n",
    "\n",
    "servico = Service(ChromeDriverManager().install())\n",
    "navegador = webdriver.Chrome(service=servico)\n"
   ]
  },
  {
   "cell_type": "code",
   "execution_count": 21,
   "id": "fddd2ff1",
   "metadata": {},
   "outputs": [],
   "source": [
    "navegador.get(r'C:\\Users\\Diego\\Downloads\\Pagina Hashtag.html')\n"
   ]
  },
  {
   "cell_type": "code",
   "execution_count": null,
   "id": "9befef64",
   "metadata": {},
   "outputs": [],
   "source": []
  }
 ],
 "metadata": {
  "kernelspec": {
   "display_name": "Python 3 (ipykernel)",
   "language": "python",
   "name": "python3"
  },
  "language_info": {
   "codemirror_mode": {
    "name": "ipython",
    "version": 3
   },
   "file_extension": ".py",
   "mimetype": "text/x-python",
   "name": "python",
   "nbconvert_exporter": "python",
   "pygments_lexer": "ipython3",
   "version": "3.11.3"
  }
 },
 "nbformat": 4,
 "nbformat_minor": 5
}
