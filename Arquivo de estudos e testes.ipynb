{
 "cells": [
  {
   "cell_type": "markdown",
   "id": "eefb54b5",
   "metadata": {},
   "source": [
    "# Instalação\n",
    "\n",
    "## Passos necessários\n",
    "* Baixar / atualizar o Selenium com ```pip install --upgrade selenium``` no prompt do anaconda (mantenha-o atualizado)\n",
    "* Usar o chrome, pois tem total compatibilidade com o selenium\n",
    "* Verifcar a versão do seu Google Chrome\n",
    "* baixar o google driver [https://chromedriver.chromium.org/downloads](https://chromedriver.chromium.org/downloads)\n",
    "* Ao baixar, extraia o arquivo e cole onde está instalado o python. No meu caso é: __C:\\Users\\Diego\\anaconda3__\n",
    "\n",
    "## Agora basta executar o comando pra abrir o navegador"
   ]
  },
  {
   "cell_type": "code",
   "execution_count": 36,
   "id": "c7502d28",
   "metadata": {},
   "outputs": [],
   "source": [
    "from selenium import webdriver\n",
    "\n",
    "driver = webdriver.Chrome()\n"
   ]
  },
  {
   "cell_type": "markdown",
   "id": "bb2f08ab",
   "metadata": {},
   "source": [
    "## Chromedriver em outro local\n",
    "\n",
    "Você pode deixar o __chromewebdriver__ em outro local do computador, para isso precisamos de outra biblioteca e usar o método ```Service```.\\\n",
    "Veja como fica:\n",
    "```\n",
    "from selenium import webdriver\n",
    "from selenium.webdriver.chrome.service import Service\n",
    "\n",
    "servico = Service(r'caminho\\webdriver.exe')\n",
    "\n",
    "driver = webdriver.Chrome(service=servico)\n",
    "```\n",
    "__Observação:__ No linux ou MAC não coloque __.exe__\n",
    "\n",
    "\n",
    "## Gerenciador de webdriver\n",
    "\n",
    "O código a seguir permite instalar o webdriver correspondente ao seu navegador, ele faz isso toda vez que o código é iniciado. Mas pra isso você deve instalar o __webdriver-manager__:\n",
    "```\n",
    "pip install webdriver-manager\n",
    "```\n",
    "## Depois é só rodar o código"
   ]
  },
  {
   "cell_type": "code",
   "execution_count": 37,
   "id": "a23126d8",
   "metadata": {},
   "outputs": [],
   "source": [
    "from selenium import webdriver\n",
    "from selenium.webdriver.chrome.service import Service\n",
    "from webdriver_manager.chrome import ChromeDriverManager\n",
    "\n",
    "servico = Service(ChromeDriverManager().install())\n",
    "driver = webdriver.Chrome(service=servico)\n"
   ]
  },
  {
   "cell_type": "markdown",
   "id": "ed2feb81",
   "metadata": {},
   "source": [
    "# Abrindo uma página específica\n",
    "\n",
    "Para abrir um site basta usar o comando __.get(link)__.\\\n",
    "\n",
    "No caso do exemplo acima usamos:\n",
    "```\n",
    "link = 'https:/www.site.com/'\n",
    "driver.get(link)\n",
    "```\n",
    "Se quiser mais de uma página, crie vários navegadores e pra cada um use o __.get()__\n",
    "\n",
    "## Também é possível abrir um arquivo em html\n",
    "Pra isso basta usar o caminho do arquivo\n",
    "```\n",
    "link = r'C:\\Users\\Fulano\\Documents\\Arquivo.html'\n",
    "driver.get(link)\n",
    "```"
   ]
  },
  {
   "cell_type": "code",
   "execution_count": 38,
   "id": "94d8f572",
   "metadata": {},
   "outputs": [],
   "source": [
    "from selenium import webdriver\n",
    "from selenium.webdriver.chrome.service import Service\n",
    "from webdriver_manager.chrome import ChromeDriverManager\n",
    "\n",
    "servico = Service(ChromeDriverManager().install())\n",
    "navegador = webdriver.Chrome(service=servico)\n"
   ]
  },
  {
   "cell_type": "code",
   "execution_count": 7,
   "id": "fddd2ff1",
   "metadata": {},
   "outputs": [],
   "source": [
    "navegador.get(r'C:\\Users\\Diego\\Downloads\\Pagina Hashtag.html')\n"
   ]
  },
  {
   "cell_type": "markdown",
   "id": "ddfd5cd4",
   "metadata": {},
   "source": [
    "# Selecionando objetos com o Selenium\n",
    "\n",
    "A seleção de elementos é uma das partes __mais importante e difícil__ no uso de automação com selenium.\\\n",
    "Segue alguns métodos de seleção:\n",
    "* id\n",
    "* xpath\n",
    "* class_name\n",
    "* text\n",
    "* tipo de informação\n",
    "* link_text\n",
    "* partial_link_text\n",
    "* name\n",
    "* tag_name\n",
    "* css_selector\n",
    "\n",
    "O mais recomendado é pelo __id__\n",
    "\n",
    "Mas deve ser importado o método ```By```\n",
    "\n",
    "```from selenium.webdriver.common.by import By```\n",
    "\n",
    "### Métodos de seleção de elementos\n",
    "```navegador.find_element``` __-> traz uma lista com 1 item__\n",
    "<br>\n",
    "```navegador.find_elements``` __-> traz uma lisa com vários elementos__"
   ]
  },
  {
   "cell_type": "code",
   "execution_count": 29,
   "id": "da0aeb9f",
   "metadata": {},
   "outputs": [],
   "source": [
    "import os\n",
    "from selenium.webdriver.common.by import By\n",
    "\n",
    "caminho = os.getcwd()\n",
    "\n",
    "arquivo = caminho + r'\\Pagina Hashtag.html'\n",
    "\n",
    "# Página local da Hashtag\n",
    "navegador.get(arquivo)\n",
    "\n",
    "# Definindo elemento de entrada de nome e escrevendo algo\n",
    "# navegador.find_element(By.ID, 'full-name').send_keys(\"Diego Ribeiro\") ######## NÃO DEU CERTO PQ A PÁGINA MUDOU\n",
    "\n",
    "# Clicando num botão\n",
    "# navegador.find_element(By.ID, '_form_176_submit').click()              ######## NÃO DEU CERTO PQ A PÁGINA MUDOU\n"
   ]
  },
  {
   "cell_type": "code",
   "execution_count": 45,
   "id": "8367cd0a",
   "metadata": {},
   "outputs": [],
   "source": [
    "# Trabalhando na página da Univesp\n",
    "navegador.get('https://univesp.br/')\n",
    "\n",
    "# Insere texto na barra de pesquisa\n",
    "navegador.find_element(By.ID, 's').send_keys(\"Cursos de engenharia\")\n"
   ]
  },
  {
   "cell_type": "markdown",
   "id": "178287da",
   "metadata": {},
   "source": [
    "# Seleção pelo CLASS NAME e pelo XPATH\n",
    "\n",
    "Sempre que o elemento que deseja selecionar para clicar por exemplo não tiver um __id__, pode tentar usar o __class_name__, para isso funcionar nem sempre será o selecionado, mas deve ir tentando até encontrar,\\\n",
    "Na caso de procurar elementos para colocar no código, deve ser procurado com __Crtl+Shit+i__, esse comando entra na parte de inspação do __html__.\\\n",
    "__MASSSS__ pode não funcionar com __class_name__, então deve usar o __XPATH__.\n",
    "\n",
    "## Usando o XPATH\n",
    "\n",
    "Passos a seguir para obter o __XPATH:__\n",
    "* Abrir a página em questão\n",
    "* Abrir o inspecionar\n",
    "* Habilitar seleção com a \"setinha\"\n",
    "* Clicar no elemento desejado\n",
    "* Na linha marcada no html clicar botão direito\n",
    "* Clica em __Copy - Copy Xpath__\n",
    "\n",
    "\n",
    "## Lógica de encontrar nome de elementos\n",
    "\n",
    "Procurar pelos passos\n",
    "* ID\n",
    "* CLASS_NAME\n",
    "* XPATH\n"
   ]
  },
  {
   "cell_type": "code",
   "execution_count": 48,
   "id": "6d4a6325",
   "metadata": {},
   "outputs": [],
   "source": [
    "# Clica na barra de pesquisa\n",
    "navegador.find_element(By.CLASS_NAME, 'btn').click()\n"
   ]
  },
  {
   "cell_type": "code",
   "execution_count": 52,
   "id": "a952e9bc",
   "metadata": {},
   "outputs": [],
   "source": [
    "# Usando outro site\n",
    "navegador.get('https://www.tecmundo.com.br/cultura-geek/217401-10-melhores-coringas-historia.htm')\n",
    "\n",
    "# Clicando em Tutoriais\n",
    "navegador.find_element(By.XPATH, '//*[@id=\"js-header\"]/nav/div/ul/li[4]/a').click()\n",
    "\n",
    "# Clicando em 'Como Usar o Apple Pay com mais Segurança?'\n",
    "navegador.find_element(By.CLASS_NAME, 'tec--tag-main__item__thumb__image').click()\n"
   ]
  }
 ],
 "metadata": {
  "kernelspec": {
   "display_name": "Python 3 (ipykernel)",
   "language": "python",
   "name": "python3"
  },
  "language_info": {
   "codemirror_mode": {
    "name": "ipython",
    "version": 3
   },
   "file_extension": ".py",
   "mimetype": "text/x-python",
   "name": "python",
   "nbconvert_exporter": "python",
   "pygments_lexer": "ipython3",
   "version": "3.11.3"
  }
 },
 "nbformat": 4,
 "nbformat_minor": 5
}
