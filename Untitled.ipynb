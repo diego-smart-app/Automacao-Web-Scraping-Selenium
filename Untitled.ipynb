{
 "cells": [
  {
   "cell_type": "markdown",
   "id": "eefb54b5",
   "metadata": {},
   "source": [
    "# Instalação\n",
    "\n",
    "## Passos necessários\n",
    "* Baixar / atualizar o Selenium com ```pip install --upgrade selenium``` no prompt do anaconda (mantenha-o atualizado)\n",
    "* Usar o chrome, pois tem total compatibilidade com o selenium\n",
    "* Verifcar a versão do seu Google Chrome\n",
    "* baixar o google driver [https://chromedriver.chromium.org/downloads](https://chromedriver.chromium.org/downloads)\n",
    "* Ao baixar, extraia o arquivo e cole onde está instalado o python. No meu caso é: __C:\\Users\\Diego\\anaconda3__"
   ]
  },
  {
   "cell_type": "code",
   "execution_count": null,
   "id": "c7502d28",
   "metadata": {},
   "outputs": [],
   "source": []
  }
 ],
 "metadata": {
  "kernelspec": {
   "display_name": "Python 3 (ipykernel)",
   "language": "python",
   "name": "python3"
  },
  "language_info": {
   "codemirror_mode": {
    "name": "ipython",
    "version": 3
   },
   "file_extension": ".py",
   "mimetype": "text/x-python",
   "name": "python",
   "nbconvert_exporter": "python",
   "pygments_lexer": "ipython3",
   "version": "3.11.3"
  }
 },
 "nbformat": 4,
 "nbformat_minor": 5
}
